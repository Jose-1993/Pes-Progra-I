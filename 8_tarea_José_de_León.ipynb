{
 "cells": [
  {
   "cell_type": "markdown",
   "metadata": {},
   "source": [
    "# Tarea día 8\n",
    "**Programación I**"
   ]
  },
  {
   "cell_type": "markdown",
   "metadata": {},
   "source": [
    "## Ejercicio 1\n",
    "\n",
    "Cree una matriz que contenga ceros. Rellene la mitad de ellos aleatoriamente con unos."
   ]
  },
  {
   "cell_type": "code",
   "execution_count": 2,
   "metadata": {},
   "outputs": [
    {
     "data": {
      "text/plain": [
       "array([[1, 0, 0, 0, 0, 1, 0, 1, 0, 1],\n",
       "       [0, 0, 1, 1, 0, 0, 1, 1, 0, 0],\n",
       "       [1, 0, 0, 1, 0, 1, 0, 0, 0, 1],\n",
       "       [0, 1, 0, 1, 1, 1, 1, 0, 1, 0],\n",
       "       [0, 0, 1, 1, 0, 1, 0, 1, 1, 0],\n",
       "       [0, 1, 0, 1, 1, 1, 0, 1, 1, 0],\n",
       "       [1, 1, 0, 0, 0, 1, 0, 0, 0, 1],\n",
       "       [1, 0, 1, 1, 0, 0, 1, 1, 1, 1],\n",
       "       [0, 1, 1, 1, 0, 0, 1, 1, 1, 1],\n",
       "       [0, 0, 1, 0, 0, 0, 0, 1, 1, 0]])"
      ]
     },
     "execution_count": 2,
     "metadata": {},
     "output_type": "execute_result"
    }
   ],
   "source": [
    "import numpy as np\n",
    "\n",
    "N = 100      # Se debe ingresar un número\n",
    "k = N//2\n",
    "arr = np.array([0]*k+([1]*(N-k)))\n",
    "arr2 = np.random.shuffle(arr)\n",
    "# Se debe configurar el tamaño de la matriz, para que albergue los N número\n",
    "arr3 = arr.reshape(10,10)\n",
    "arr3"
   ]
  },
  {
   "cell_type": "markdown",
   "metadata": {},
   "source": [
    "## Ejercicio 2\n",
    "Cree dos matrices de dimensiones $(5,2)$. La primera rellena de ceros y la siguiente de unos. \n",
    "1.\tConvierta las matrices en vectores columna. \n",
    "2.\tApile ambos vectores a lo largo de una tercera dimensión. \n",
    "3.\tCon las matrices originales, conviértalas en vectores fila y concaténelos verticalmente. \n"
   ]
  },
  {
   "cell_type": "code",
   "execution_count": 1229,
   "metadata": {},
   "outputs": [
    {
     "data": {
      "text/plain": [
       "array([[0, 0],\n",
       "       [0, 0],\n",
       "       [0, 0],\n",
       "       [0, 0],\n",
       "       [0, 0]], dtype=int16)"
      ]
     },
     "execution_count": 1229,
     "metadata": {},
     "output_type": "execute_result"
    }
   ],
   "source": [
    "# Ejercicio 2\n",
    "p = np.zeros((5,2), dtype = np.int16)    # Primera matriz con ceros\n",
    "p\n"
   ]
  },
  {
   "cell_type": "code",
   "execution_count": 1100,
   "metadata": {},
   "outputs": [
    {
     "data": {
      "text/plain": [
       "array([[0],\n",
       "       [0],\n",
       "       [0],\n",
       "       [0],\n",
       "       [0],\n",
       "       [0],\n",
       "       [0],\n",
       "       [0],\n",
       "       [0],\n",
       "       [0]], dtype=int16)"
      ]
     },
     "execution_count": 1100,
     "metadata": {},
     "output_type": "execute_result"
    }
   ],
   "source": [
    "r = p.reshape(10,1)\n",
    "r\n"
   ]
  },
  {
   "cell_type": "code",
   "execution_count": 1103,
   "metadata": {},
   "outputs": [
    {
     "data": {
      "text/plain": [
       "(10, 1)"
      ]
     },
     "execution_count": 1103,
     "metadata": {},
     "output_type": "execute_result"
    }
   ],
   "source": [
    "r.shape"
   ]
  },
  {
   "cell_type": "code",
   "execution_count": 1104,
   "metadata": {},
   "outputs": [
    {
     "data": {
      "text/plain": [
       "array([[1, 1],\n",
       "       [1, 1],\n",
       "       [1, 1],\n",
       "       [1, 1],\n",
       "       [1, 1]], dtype=int16)"
      ]
     },
     "execution_count": 1104,
     "metadata": {},
     "output_type": "execute_result"
    }
   ],
   "source": [
    "q = np.ones((5,2), dtype= np.int16)       # Segunda matriz con unos\n",
    "q"
   ]
  },
  {
   "cell_type": "code",
   "execution_count": 1105,
   "metadata": {},
   "outputs": [
    {
     "data": {
      "text/plain": [
       "array([0, 0, 0, 0, 0, 0, 0, 0, 0, 0], dtype=int16)"
      ]
     },
     "execution_count": 1105,
     "metadata": {},
     "output_type": "execute_result"
    }
   ],
   "source": [
    "f1 = p.flatten()        # Arreglo de ceros en una dimensión\n",
    "f1"
   ]
  },
  {
   "cell_type": "code",
   "execution_count": 1106,
   "metadata": {},
   "outputs": [
    {
     "data": {
      "text/plain": [
       "array([1, 1, 1, 1, 1, 1, 1, 1, 1, 1], dtype=int16)"
      ]
     },
     "execution_count": 1106,
     "metadata": {},
     "output_type": "execute_result"
    }
   ],
   "source": [
    "f2= q.flatten()         # Arreglo de unos en una dimensión\n",
    "f2"
   ]
  },
  {
   "cell_type": "code",
   "execution_count": 1107,
   "metadata": {},
   "outputs": [
    {
     "data": {
      "text/plain": [
       "array([[0],\n",
       "       [0],\n",
       "       [0],\n",
       "       [0],\n",
       "       [0],\n",
       "       [0],\n",
       "       [0],\n",
       "       [0],\n",
       "       [0],\n",
       "       [0]], dtype=int16)"
      ]
     },
     "execution_count": 1107,
     "metadata": {},
     "output_type": "execute_result"
    }
   ],
   "source": [
    "# Subejercicio.1 Vectores Columna\n",
    "vc1 = (f1[: , None])    \n",
    "vc1"
   ]
  },
  {
   "cell_type": "code",
   "execution_count": 1108,
   "metadata": {},
   "outputs": [
    {
     "data": {
      "text/plain": [
       "array([[1],\n",
       "       [1],\n",
       "       [1],\n",
       "       [1],\n",
       "       [1],\n",
       "       [1],\n",
       "       [1],\n",
       "       [1],\n",
       "       [1],\n",
       "       [1]], dtype=int16)"
      ]
     },
     "execution_count": 1108,
     "metadata": {},
     "output_type": "execute_result"
    }
   ],
   "source": [
    "vc2 = (f2[:,None])\n",
    "vc2"
   ]
  },
  {
   "cell_type": "code",
   "execution_count": 1109,
   "metadata": {},
   "outputs": [
    {
     "data": {
      "text/plain": [
       "(10, 1)"
      ]
     },
     "execution_count": 1109,
     "metadata": {},
     "output_type": "execute_result"
    }
   ],
   "source": [
    "vc1.shape  # Validando que se trata de un vector columna de nxm dimensiones"
   ]
  },
  {
   "cell_type": "code",
   "execution_count": 1110,
   "metadata": {},
   "outputs": [
    {
     "data": {
      "text/plain": [
       "(10, 1)"
      ]
     },
     "execution_count": 1110,
     "metadata": {},
     "output_type": "execute_result"
    }
   ],
   "source": [
    "vc2.shape  # Validando que se trata de un vector columna de nxm dimensiones"
   ]
  },
  {
   "cell_type": "code",
   "execution_count": 1111,
   "metadata": {},
   "outputs": [
    {
     "data": {
      "text/plain": [
       "array([[[0, 1]],\n",
       "\n",
       "       [[0, 1]],\n",
       "\n",
       "       [[0, 1]],\n",
       "\n",
       "       [[0, 1]],\n",
       "\n",
       "       [[0, 1]],\n",
       "\n",
       "       [[0, 1]],\n",
       "\n",
       "       [[0, 1]],\n",
       "\n",
       "       [[0, 1]],\n",
       "\n",
       "       [[0, 1]],\n",
       "\n",
       "       [[0, 1]]], dtype=int16)"
      ]
     },
     "execution_count": 1111,
     "metadata": {},
     "output_type": "execute_result"
    }
   ],
   "source": [
    "#Subjercicio.2 Apilar vector col en 3 dimensiones\n",
    "np.dstack((vc1,vc2))"
   ]
  },
  {
   "cell_type": "code",
   "execution_count": 1112,
   "metadata": {},
   "outputs": [
    {
     "data": {
      "text/plain": [
       "3"
      ]
     },
     "execution_count": 1112,
     "metadata": {},
     "output_type": "execute_result"
    }
   ],
   "source": [
    "np.dstack((vc1,vc2)).ndim  # validación que apilación está en 3 dimensiones"
   ]
  },
  {
   "cell_type": "code",
   "execution_count": 1113,
   "metadata": {},
   "outputs": [
    {
     "data": {
      "text/plain": [
       "array([[0, 0, 0, 0, 0, 0, 0, 0, 0, 0]], dtype=int16)"
      ]
     },
     "execution_count": 1113,
     "metadata": {},
     "output_type": "execute_result"
    }
   ],
   "source": [
    "#Subjercicio.3 Vectores filas\n",
    "vf1 = vc1.T   # Vectores fila de ceros a partir de los vectores columna.\n",
    "vf1"
   ]
  },
  {
   "cell_type": "code",
   "execution_count": 1114,
   "metadata": {},
   "outputs": [
    {
     "data": {
      "text/plain": [
       "array([[0, 0, 0, 0, 0, 0, 0, 0, 0, 0]], dtype=int16)"
      ]
     },
     "execution_count": 1114,
     "metadata": {},
     "output_type": "execute_result"
    }
   ],
   "source": [
    "pvf = p.reshape(1,10) # Opción 2\n",
    "pvf"
   ]
  },
  {
   "cell_type": "code",
   "execution_count": 1115,
   "metadata": {},
   "outputs": [
    {
     "data": {
      "text/plain": [
       "(1, 10)"
      ]
     },
     "execution_count": 1115,
     "metadata": {},
     "output_type": "execute_result"
    }
   ],
   "source": [
    "vf1.shape      # Validación de que se trata de un vector fila"
   ]
  },
  {
   "cell_type": "code",
   "execution_count": 1116,
   "metadata": {},
   "outputs": [
    {
     "data": {
      "text/plain": [
       "array([[1, 1, 1, 1, 1, 1, 1, 1, 1, 1]], dtype=int16)"
      ]
     },
     "execution_count": 1116,
     "metadata": {},
     "output_type": "execute_result"
    }
   ],
   "source": [
    "vf2 = vc2.T   # Vectores fila de ceros a partir de los vectores columna.\n",
    "vf2"
   ]
  },
  {
   "cell_type": "code",
   "execution_count": 1117,
   "metadata": {},
   "outputs": [
    {
     "data": {
      "text/plain": [
       "array([[0, 0],\n",
       "       [0, 0],\n",
       "       [0, 0],\n",
       "       [0, 0],\n",
       "       [0, 0],\n",
       "       [1, 1],\n",
       "       [1, 1],\n",
       "       [1, 1],\n",
       "       [1, 1],\n",
       "       [1, 1]], dtype=int16)"
      ]
     },
     "execution_count": 1117,
     "metadata": {},
     "output_type": "execute_result"
    }
   ],
   "source": [
    "np.vstack((p,q))"
   ]
  },
  {
   "cell_type": "code",
   "execution_count": 1118,
   "metadata": {},
   "outputs": [
    {
     "data": {
      "text/plain": [
       "(1, 10)"
      ]
     },
     "execution_count": 1118,
     "metadata": {},
     "output_type": "execute_result"
    }
   ],
   "source": [
    "vf2.shape       # Validación de que se trata de un vector fila"
   ]
  },
  {
   "cell_type": "code",
   "execution_count": 1119,
   "metadata": {},
   "outputs": [
    {
     "data": {
      "text/plain": [
       "array([[0, 0, 0, 0, 0, 0, 0, 0, 0, 0],\n",
       "       [1, 1, 1, 1, 1, 1, 1, 1, 1, 1]], dtype=int16)"
      ]
     },
     "execution_count": 1119,
     "metadata": {},
     "output_type": "execute_result"
    }
   ],
   "source": [
    "np.concatenate((vf1,vf2), axis=0) # Opción 1"
   ]
  },
  {
   "cell_type": "code",
   "execution_count": 1120,
   "metadata": {},
   "outputs": [
    {
     "data": {
      "text/plain": [
       "array([[0, 0, 0, 0, 0, 0, 0, 0, 0, 0],\n",
       "       [1, 1, 1, 1, 1, 1, 1, 1, 1, 1]], dtype=int16)"
      ]
     },
     "execution_count": 1120,
     "metadata": {},
     "output_type": "execute_result"
    }
   ],
   "source": [
    "np.vstack((vf1,vf2))      # Opción 2"
   ]
  },
  {
   "cell_type": "markdown",
   "metadata": {},
   "source": [
    "## Ejercicio 3\n",
    "\n",
    "Dada la función $f(x,y,z) = 2x +3y + z^2$\n",
    "1.\tGenere una matriz con números aleatorios, donde cada columna sea una variable. \n",
    "2.\tEvalúe la matriz anterior en la función. El resultado debe ser una vector columna. "
   ]
  },
  {
   "cell_type": "code",
   "execution_count": 5,
   "metadata": {},
   "outputs": [],
   "source": [
    "def f(x,y,z):                   # definiendo la matriz\n",
    "    return 2*x + 3*y + z**2"
   ]
  },
  {
   "cell_type": "code",
   "execution_count": 6,
   "metadata": {},
   "outputs": [
    {
     "data": {
      "text/plain": [
       "array([[75,  6, 99],\n",
       "       [23, 81,  4],\n",
       "       [28, 63, 70],\n",
       "       [51, 40, 96]])"
      ]
     },
     "execution_count": 6,
     "metadata": {},
     "output_type": "execute_result"
    }
   ],
   "source": [
    "# Dimensinoes de las matrices, debe tener 3 columnas para que cada una sea x, y, z\n",
    "n = 4     \n",
    "m = 3\n",
    "\n",
    "matrizAl = np.random.randint(100,size=([n,m]))   \n",
    "matrizAl"
   ]
  },
  {
   "cell_type": "code",
   "execution_count": 7,
   "metadata": {},
   "outputs": [
    {
     "data": {
      "text/plain": [
       "2"
      ]
     },
     "execution_count": 7,
     "metadata": {},
     "output_type": "execute_result"
    }
   ],
   "source": [
    "matrizAl.ndim"
   ]
  },
  {
   "cell_type": "code",
   "execution_count": 8,
   "metadata": {},
   "outputs": [
    {
     "data": {
      "text/plain": [
       "array([[9969],\n",
       "       [ 305],\n",
       "       [5145],\n",
       "       [9438]])"
      ]
     },
     "execution_count": 8,
     "metadata": {},
     "output_type": "execute_result"
    }
   ],
   "source": [
    "# Se obtiene el listado para x, y y el z\n",
    "x = matrizAl[:,0]    \n",
    "y = matrizAl[:,1]\n",
    "z = matrizAl[:,2]\n",
    "\n",
    "eval = f(x,y,z)\n",
    "vcolEval = eval.reshape(n,1)    # Para presentar como vector columna\n",
    "vcolEval "
   ]
  },
  {
   "cell_type": "markdown",
   "metadata": {},
   "source": [
    "## Ejercicio 4\n",
    "\n",
    "Suponga que dentro de un cuadrado de lado 50 cm, hay un cuadrado de 20cm. Ambos cuadrados comparten centro. Estime el área del cuadrado interno por método Monte Carlo. [Consulte Aquí]( http://mathonweb.com/entrtain/monte/t_monte.htm)"
   ]
  },
  {
   "cell_type": "code",
   "execution_count": 808,
   "metadata": {},
   "outputs": [
    {
     "data": {
      "text/plain": [
       "array([[0, 1, 0, ..., 0, 1, 0],\n",
       "       [1, 0, 1, ..., 1, 1, 1],\n",
       "       [1, 1, 1, ..., 1, 1, 0],\n",
       "       ...,\n",
       "       [1, 1, 1, ..., 1, 1, 1],\n",
       "       [0, 0, 0, ..., 1, 0, 0],\n",
       "       [1, 1, 0, ..., 1, 0, 1]])"
      ]
     },
     "execution_count": 808,
     "metadata": {},
     "output_type": "execute_result"
    }
   ],
   "source": [
    "cExt = np.random.choice(2,2500).reshape(50,50)   # Matriz de 50x50, colocando 0 y 1\n",
    "cExt"
   ]
  },
  {
   "cell_type": "code",
   "execution_count": 809,
   "metadata": {},
   "outputs": [
    {
     "data": {
      "text/plain": [
       "1277"
      ]
     },
     "execution_count": 809,
     "metadata": {},
     "output_type": "execute_result"
    }
   ],
   "source": [
    "sExt = cExt.sum()     # Se calcula el número de puntos que tiene el cuadrado exterior\n",
    "sExt"
   ]
  },
  {
   "cell_type": "code",
   "execution_count": 810,
   "metadata": {},
   "outputs": [
    {
     "data": {
      "text/plain": [
       "array([[1, 1, 0, 1, 0, 1, 1, 0, 1, 1, 0, 0, 0, 1, 0, 0, 0, 0, 1, 1],\n",
       "       [1, 1, 1, 1, 0, 0, 0, 0, 0, 1, 0, 1, 0, 0, 0, 0, 1, 1, 0, 0],\n",
       "       [1, 1, 0, 0, 1, 0, 1, 1, 0, 0, 0, 0, 1, 0, 1, 0, 0, 1, 0, 0],\n",
       "       [1, 1, 0, 0, 0, 0, 1, 1, 1, 0, 0, 1, 1, 1, 0, 0, 0, 0, 0, 1],\n",
       "       [0, 1, 0, 1, 1, 0, 0, 0, 0, 1, 0, 0, 1, 1, 0, 1, 0, 0, 1, 1],\n",
       "       [0, 1, 1, 0, 0, 0, 1, 1, 0, 1, 0, 1, 1, 0, 1, 1, 0, 0, 1, 0],\n",
       "       [0, 0, 1, 0, 1, 1, 1, 1, 1, 1, 1, 0, 0, 1, 1, 1, 0, 1, 0, 1],\n",
       "       [1, 1, 1, 0, 0, 0, 1, 0, 1, 0, 1, 0, 1, 0, 0, 1, 0, 1, 0, 0],\n",
       "       [0, 1, 0, 0, 1, 1, 0, 1, 1, 0, 0, 0, 1, 0, 1, 0, 1, 1, 1, 1],\n",
       "       [1, 0, 0, 0, 0, 0, 0, 0, 1, 1, 1, 1, 0, 0, 0, 0, 1, 0, 0, 0],\n",
       "       [1, 0, 0, 0, 0, 0, 1, 1, 0, 0, 1, 1, 1, 0, 0, 1, 1, 0, 0, 1],\n",
       "       [0, 0, 1, 0, 1, 0, 0, 1, 1, 0, 1, 0, 1, 1, 1, 1, 0, 0, 0, 1],\n",
       "       [0, 1, 1, 0, 1, 1, 1, 0, 0, 0, 1, 1, 1, 1, 0, 0, 0, 0, 1, 1],\n",
       "       [0, 1, 1, 1, 0, 1, 1, 1, 1, 1, 0, 1, 0, 0, 1, 1, 1, 1, 1, 1],\n",
       "       [0, 1, 0, 0, 0, 0, 1, 1, 1, 1, 1, 0, 1, 1, 1, 1, 0, 1, 0, 0],\n",
       "       [1, 1, 0, 1, 1, 0, 0, 1, 0, 1, 0, 1, 0, 0, 0, 1, 0, 1, 1, 1],\n",
       "       [1, 1, 1, 0, 0, 1, 0, 1, 1, 0, 0, 0, 1, 1, 1, 0, 1, 1, 0, 1],\n",
       "       [0, 1, 0, 0, 1, 0, 0, 1, 1, 0, 0, 0, 0, 0, 1, 0, 1, 1, 1, 0],\n",
       "       [0, 0, 0, 0, 0, 1, 1, 1, 0, 1, 1, 1, 0, 1, 0, 1, 1, 1, 1, 0],\n",
       "       [1, 0, 1, 0, 0, 0, 1, 0, 1, 0, 0, 0, 1, 1, 1, 1, 0, 1, 0, 1]])"
      ]
     },
     "execution_count": 810,
     "metadata": {},
     "output_type": "execute_result"
    }
   ],
   "source": [
    "cInt = cExt[15:35,15:35]   # Se calcula el número de puntos que tiene el cuadrado interior\n",
    "cInt                       # tomando como punto inicial el 15, porque se le quitan 15 de cada lado, y de 15 a 35 hay 20 espacios"
   ]
  },
  {
   "cell_type": "code",
   "execution_count": 811,
   "metadata": {},
   "outputs": [
    {
     "data": {
      "text/plain": [
       "201"
      ]
     },
     "execution_count": 811,
     "metadata": {},
     "output_type": "execute_result"
    }
   ],
   "source": [
    "sInt = cInt.sum()\n",
    "sInt"
   ]
  },
  {
   "cell_type": "code",
   "execution_count": 812,
   "metadata": {},
   "outputs": [
    {
     "data": {
      "text/plain": [
       "array([[1, 1, 0, 1, 0, 0, 0, 0, 0, 1, 1, 0, 1, 0, 0, 0, 0, 1, 1, 1],\n",
       "       [1, 0, 0, 0, 0, 1, 1, 1, 0, 1, 0, 1, 0, 0, 0, 0, 1, 1, 1, 1],\n",
       "       [1, 0, 0, 1, 1, 0, 0, 1, 0, 0, 0, 1, 0, 0, 1, 1, 0, 1, 1, 0],\n",
       "       [1, 1, 0, 0, 1, 0, 1, 0, 0, 1, 0, 0, 1, 0, 0, 1, 0, 0, 1, 1],\n",
       "       [0, 1, 1, 0, 0, 0, 1, 0, 0, 0, 1, 0, 1, 0, 0, 1, 1, 1, 0, 1],\n",
       "       [1, 0, 1, 0, 1, 1, 0, 0, 1, 1, 0, 0, 0, 1, 1, 0, 0, 0, 1, 1],\n",
       "       [0, 0, 0, 1, 0, 0, 1, 0, 0, 1, 1, 0, 1, 0, 1, 0, 0, 0, 0, 0],\n",
       "       [0, 0, 0, 1, 0, 1, 0, 0, 1, 1, 0, 0, 0, 1, 1, 0, 0, 1, 0, 1],\n",
       "       [1, 1, 1, 0, 1, 1, 1, 1, 0, 1, 1, 0, 0, 0, 0, 0, 0, 0, 1, 0],\n",
       "       [0, 1, 1, 1, 0, 1, 1, 1, 0, 1, 1, 0, 1, 0, 0, 1, 0, 0, 1, 1],\n",
       "       [0, 0, 1, 0, 1, 1, 1, 0, 1, 1, 1, 1, 0, 1, 1, 0, 0, 1, 1, 0],\n",
       "       [1, 0, 1, 0, 1, 1, 0, 0, 0, 0, 1, 0, 1, 0, 0, 1, 1, 0, 0, 0],\n",
       "       [0, 1, 1, 0, 1, 0, 0, 1, 0, 1, 1, 0, 0, 1, 0, 1, 0, 0, 0, 1],\n",
       "       [1, 1, 0, 0, 1, 0, 1, 1, 1, 0, 0, 0, 1, 0, 0, 1, 0, 1, 1, 0],\n",
       "       [0, 1, 1, 0, 0, 0, 0, 1, 1, 1, 1, 1, 0, 1, 1, 0, 1, 0, 1, 1],\n",
       "       [1, 1, 0, 1, 0, 0, 1, 0, 1, 0, 1, 0, 1, 0, 1, 1, 1, 1, 0, 0],\n",
       "       [1, 1, 0, 1, 0, 1, 0, 1, 0, 1, 0, 0, 1, 1, 0, 1, 1, 1, 1, 1],\n",
       "       [0, 0, 1, 0, 1, 0, 0, 0, 1, 0, 0, 1, 1, 1, 0, 0, 1, 0, 1, 1],\n",
       "       [0, 0, 0, 1, 0, 0, 0, 1, 1, 0, 1, 0, 1, 0, 1, 0, 0, 0, 1, 0],\n",
       "       [1, 1, 0, 1, 0, 0, 0, 0, 0, 1, 1, 0, 1, 0, 0, 1, 1, 1, 1, 1]])"
      ]
     },
     "execution_count": 812,
     "metadata": {},
     "output_type": "execute_result"
    }
   ],
   "source": [
    "cInt=cEnt[15:35,15:35]\n",
    "cInt"
   ]
  },
  {
   "cell_type": "code",
   "execution_count": 813,
   "metadata": {},
   "outputs": [
    {
     "data": {
      "text/plain": [
       "0.15740015661707127"
      ]
     },
     "execution_count": 813,
     "metadata": {},
     "output_type": "execute_result"
    }
   ],
   "source": [
    "Proporc = sInt/sExt \n",
    "Proporc"
   ]
  },
  {
   "cell_type": "markdown",
   "metadata": {},
   "source": [
    "El área del objeto se calcula como:\n",
    "\n",
    "> Area object = area of rectangle x number of points inside object/total number of points in rectangle\n",
    "\n"
   ]
  },
  {
   "cell_type": "code",
   "execution_count": 814,
   "metadata": {},
   "outputs": [
    {
     "data": {
      "text/plain": [
       "393.5003915426782"
      ]
     },
     "execution_count": 814,
     "metadata": {},
     "output_type": "execute_result"
    }
   ],
   "source": [
    "areaObj=((50*50)*Proporc)   # el cuadrado exterior tienen dim 50x50\n",
    "areaObj"
   ]
  },
  {
   "cell_type": "markdown",
   "metadata": {},
   "source": [
    "## Ejercicio 5\n",
    "\n",
    "### *Tarea*\n",
    "\n",
    "1. De las siguientes secciones, escoger 73 funciones de NumPy y mostrar su utilización en un ejemplo.\n",
    "\n",
    "    - [Array creation routines](https://numpy.org/devdocs/reference/routines.array-creation.html)\n",
    "\n",
    "    - [Array manipulation routines](https://numpy.org/devdocs/reference/routines.array-manipulation.html)\n",
    "\n",
    "    - [Binary operations](https://numpy.org/devdocs/reference/routines.bitwise.html)\n",
    "\n",
    "    - [String operations](https://numpy.org/devdocs/reference/routines.char.html)\n",
    "    \n",
    "\n",
    "2. Crear un ejemplo de cómo guardar y cargar arreglos de un archivo binario `.npy` y `.npz`:\n",
    "\n",
    "    - [NumPy binary files (NPY, NPZ)](https://numpy.org/devdocs/reference/routines.io.html#numpy-binary-files-npy-npz)\n",
    "    \n",
    "3. Crear un ejemplo de cómo guardar y cargar arreglos de un archivo de texto `.txt`:\n",
    "\n",
    "    - [NumPy Text files](https://numpy.org/devdocs/reference/routines.io.html#text-files)    \n",
    "    \n",
    "4. Crear una función llamada `estimacionMCO` que lea un archivo CSV con 7 columnas, que corresponden a las variables $(x_{1i}, \\ldots, x_{6i})$ y $y_i$. \n",
    "    - La función debe computar matricialmente los parámetros del modelo de regresión lineal: $y = X\\beta$. \n",
    "    - Estos parámetros deben ser devueltos como un arreglo de NumPy. \n",
    "\n",
    "    - Utilice la función de lectura de archivos de NumPy."
   ]
  },
  {
   "cell_type": "markdown",
   "metadata": {},
   "source": [
    "### Subejercicio 1."
   ]
  },
  {
   "cell_type": "code",
   "execution_count": 854,
   "metadata": {},
   "outputs": [
    {
     "data": {
      "text/plain": [
       "array([[1., 0., 0., 0., 0.],\n",
       "       [0., 1., 0., 0., 0.],\n",
       "       [0., 0., 1., 0., 0.],\n",
       "       [0., 0., 0., 1., 0.],\n",
       "       [0., 0., 0., 0., 1.]])"
      ]
     },
     "execution_count": 854,
     "metadata": {},
     "output_type": "execute_result"
    }
   ],
   "source": [
    "# 1. numpy.identity(n, dtype=None): \n",
    "\"\"\" \n",
    "Regresa una matriz identidad, con ceros en la diagonal principal.\n",
    "\"\"\"\n",
    "\n",
    "np.identity(5)"
   ]
  },
  {
   "cell_type": "code",
   "execution_count": 853,
   "metadata": {},
   "outputs": [
    {
     "data": {
      "text/plain": [
       "array([[0., 0., 0., 0., 0., 0.],\n",
       "       [0., 0., 0., 0., 0., 0.],\n",
       "       [1., 0., 0., 0., 0., 0.],\n",
       "       [0., 1., 0., 0., 0., 0.],\n",
       "       [0., 0., 1., 0., 0., 0.],\n",
       "       [0., 0., 0., 1., 0., 0.]])"
      ]
     },
     "execution_count": 853,
     "metadata": {},
     "output_type": "execute_result"
    }
   ],
   "source": [
    "# 2. numpy.eye(N, M=None, k=0, dtype=<class 'float'>, order='C'): \n",
    "\"\"\"\n",
    "Regresa un arreglo con unos en la diagonal indicada y ceros \n",
    "\"\"\"\n",
    "\n",
    "np.eye(6, k=-2)   # un valor positivo de k se ubica en la diagonal superior, y un valor negativo en la diagonal inferior."
   ]
  },
  {
   "cell_type": "code",
   "execution_count": 852,
   "metadata": {},
   "outputs": [
    {
     "data": {
      "text/plain": [
       "array([0., 0., 0., 0., 0., 0.])"
      ]
     },
     "execution_count": 852,
     "metadata": {},
     "output_type": "execute_result"
    }
   ],
   "source": [
    "# 3. numpy.ones & numpy.zeros(shape, dtype=None, order='C'): \n",
    "\"\"\"\n",
    "Ambas regresan un arreglo con una forma dada con la diferencia que \n",
    "la primera lo hace rellena de ceros y la segunda rellena de unos.\n",
    "\"\"\"\n",
    "\n",
    "np.zeros(6)"
   ]
  },
  {
   "cell_type": "code",
   "execution_count": 851,
   "metadata": {},
   "outputs": [
    {
     "data": {
      "text/plain": [
       "array([['hola', '4'],\n",
       "       ['hola', '4']], dtype='<U4')"
      ]
     },
     "execution_count": 851,
     "metadata": {},
     "output_type": "execute_result"
    }
   ],
   "source": [
    "# 4. numpy.full(shape, fill_value, dtype=None, order='C):\n",
    "\"\"\"\n",
    "Regresa un nuevo arreglo dada una forma y un tipo, rellenada con un\n",
    "fill_value\n",
    "\"\"\"\n",
    "\n",
    "np.full((2, 2), [\"hola\", 4])"
   ]
  },
  {
   "cell_type": "code",
   "execution_count": 850,
   "metadata": {},
   "outputs": [
    {
     "data": {
      "text/plain": [
       "array([[2.12199579e-314, 0.00000000e+000, 4.94065646e-324],\n",
       "       [4.94065646e-324, 2.12199579e-314, 2.12199579e-314],\n",
       "       [2.12199579e-314, 2.12199579e-314, 4.94065646e-324]])"
      ]
     },
     "execution_count": 850,
     "metadata": {},
     "output_type": "execute_result"
    }
   ],
   "source": [
    "# 5. numpy.empty(shape, dtype=float, order='C'):\n",
    "\"\"\"\n",
    "Regresa un nuevo arreglo dada una forma y un tipo, sin valores de entrada.\n",
    "\"\"\"\n",
    "\n",
    "np.empty([3,3])"
   ]
  },
  {
   "cell_type": "code",
   "execution_count": 857,
   "metadata": {},
   "outputs": [
    {
     "data": {
      "text/plain": [
       "array({'A': 10, 'B': 20, 'C': 30, 'D': 40}, dtype=object)"
      ]
     },
     "execution_count": 857,
     "metadata": {},
     "output_type": "execute_result"
    }
   ],
   "source": [
    "# 6. numpy.asarray(a, dtype=None, order=None):\n",
    "\"\"\"\n",
    "Convierte una entrada en un arreglo.\n",
    "\"\"\"\n",
    "\n",
    "b = {\"A\":10, \"B\":20, \"C\":30, \"D\": 40}\n",
    "np.asarray(b)\n",
    "\n",
    "# dtype se pone, el arreglo se copia sólo si dtype no coincide."
   ]
  },
  {
   "cell_type": "code",
   "execution_count": 885,
   "metadata": {},
   "outputs": [
    {
     "data": {
      "text/plain": [
       "True"
      ]
     },
     "execution_count": 885,
     "metadata": {},
     "output_type": "execute_result"
    }
   ],
   "source": [
    "# 7. numpy.asanrray(a, dtype=None, order=None):\n",
    "\"\"\"\n",
    "Convierte una entrada en un arreglo, pero sí pasa las subclases del arreglo.\n",
    "\"\"\"\n",
    "\n",
    "a = np.array([(3.5, 8), (2.73, 4)], dtype='f4,i4').view(np.recarray)\n",
    "np.asanyarray(a) is a"
   ]
  },
  {
   "cell_type": "code",
   "execution_count": 900,
   "metadata": {},
   "outputs": [
    {
     "data": {
      "text/plain": [
       "matrix([[ 1,  2],\n",
       "        [ 4,  6],\n",
       "        [ 7, 29]])"
      ]
     },
     "execution_count": 900,
     "metadata": {},
     "output_type": "execute_result"
    }
   ],
   "source": [
    "# 8. numpy.asmatrix(data, dtype=None):\n",
    "\"\"\"\n",
    "Interpreta una entrada como una matriz.\n",
    "\"\"\"\n",
    "\n",
    "j = np.array([[1,2],[4,6],[7,3]])\n",
    "m = np.asmatrix(j)\n",
    "j[2,1]=29\n",
    "m"
   ]
  },
  {
   "cell_type": "code",
   "execution_count": 983,
   "metadata": {},
   "outputs": [
    {
     "data": {
      "text/plain": [
       "array([1, 1, 1, 0, 1, 1, 0, 1, 1, 1, 1, 1, 0, 0, 0, 0, 0, 0, 1, 0, 0, 1,\n",
       "       0, 1, 1])"
      ]
     },
     "execution_count": 983,
     "metadata": {},
     "output_type": "execute_result"
    }
   ],
   "source": [
    "# 9. numpy.copy(a, order='K'):\n",
    "\"\"\"\n",
    "Regresa una copia del arreglo de una objeto dado.\n",
    "\"\"\"\n",
    "#Considere una reglo con x, referenciado a y, creando una copia z:\n",
    "x = np.random.choice(2,25)\n",
    "y = x\n",
    "z = np.copy(x)\n",
    "x"
   ]
  },
  {
   "cell_type": "code",
   "execution_count": 986,
   "metadata": {},
   "outputs": [
    {
     "data": {
      "text/plain": [
       "True"
      ]
     },
     "execution_count": 986,
     "metadata": {},
     "output_type": "execute_result"
    }
   ],
   "source": [
    "#Al modificar x, y cambia pero no lo hace z.\n",
    "x[4] = 5\n",
    "x[4] == y[4]"
   ]
  },
  {
   "cell_type": "code",
   "execution_count": 987,
   "metadata": {},
   "outputs": [
    {
     "data": {
      "text/plain": [
       "False"
      ]
     },
     "execution_count": 987,
     "metadata": {},
     "output_type": "execute_result"
    }
   ],
   "source": [
    "x[4] == z[4]"
   ]
  },
  {
   "cell_type": "code",
   "execution_count": 1015,
   "metadata": {},
   "outputs": [
    {
     "data": {
      "text/plain": [
       "array([[ 0,  1,  4,  9],\n",
       "       [ 5,  6,  9, 14],\n",
       "       [10, 11, 14, 19],\n",
       "       [15, 16, 19, 24],\n",
       "       [20, 21, 24, 29],\n",
       "       [25, 26, 29, 34]])"
      ]
     },
     "execution_count": 1015,
     "metadata": {},
     "output_type": "execute_result"
    }
   ],
   "source": [
    "# 10. numpy.fromfunction(function, shape, *, dtype=<class 'float'>, **kwargs):\n",
    "\"\"\"\n",
    "Construye un arreglo ejecutando una función sobre cada coordenada de la matriz.\n",
    "La matriz resultante por lo tanto tiene valor fn(x,y,z) en la coordenada (x,y,z).\n",
    "\n",
    "\"\"\"\n",
    "def f(x,y):\n",
    "    return 5*x + y**2\n",
    "a = np.fromfunction(f, (6,4), dtype=int)\n",
    "a"
   ]
  },
  {
   "cell_type": "code",
   "execution_count": 1017,
   "metadata": {},
   "outputs": [
    {
     "data": {
      "text/plain": [
       "array([ 0.,  1.,  4.,  9., 16., 25.])"
      ]
     },
     "execution_count": 1017,
     "metadata": {},
     "output_type": "execute_result"
    }
   ],
   "source": [
    "# 11. numpy.fromiter(iterable, dtype, count=1):\n",
    "\"\"\"\n",
    "Crea un arreglo unidimensional de un objeto iterable.\n",
    "\"\"\"\n",
    "\n",
    "iterable = (x*x for x in range(6))\n",
    "np.fromiter(iterable, float)"
   ]
  },
  {
   "cell_type": "code",
   "execution_count": 1025,
   "metadata": {},
   "outputs": [
    {
     "data": {
      "text/plain": [
       "array([1, 2, 3, 4, 5])"
      ]
     },
     "execution_count": 1025,
     "metadata": {},
     "output_type": "execute_result"
    }
   ],
   "source": [
    "# 12. numpy.fromstring(string, dtype=float, count=1, sep=''):\n",
    "\"\"\"\n",
    "Se inicia un arreglo unidimensional de texto en una cadena.\n",
    "\"\"\"\n",
    "\n",
    "np.fromstring('1 2 3 4 5', dtype=int, sep=' ')"
   ]
  },
  {
   "cell_type": "code",
   "execution_count": 1028,
   "metadata": {},
   "outputs": [
    {
     "data": {
      "text/plain": [
       "array([[0., 3., 5.],\n",
       "       [4., 7., 5.]])"
      ]
     },
     "execution_count": 1028,
     "metadata": {},
     "output_type": "execute_result"
    }
   ],
   "source": [
    "# 13. numpy.loadtxt:\n",
    "\"\"\"\n",
    "Carga la información de un archivo de texto.\n",
    "Cada fila in el archivo de texto debe tener el mismo número de valores. \n",
    "\"\"\"\n",
    "\n",
    "from io import StringIO   # StringIO behaves like a file object\n",
    "s = StringIO(u\"0 3 5\\n4 7 5\")\n",
    "np.loadtxt(s)"
   ]
  },
  {
   "cell_type": "code",
   "execution_count": 1058,
   "metadata": {},
   "outputs": [
    {
     "name": "stdout",
     "output_type": "stream",
     "text": [
      "(23, 'ddd', 2.)\n"
     ]
    }
   ],
   "source": [
    "# 14. numpy.core.records.fromarrays(arrayList, dtype=None, shape=None, formats=None, names=None, titles=None, aligned=False, byteorder=None):\n",
    "\"\"\"\n",
    "Crea una matriz de registros a partir de una lista plana de arreglos.\n",
    "\"\"\"\n",
    "\n",
    "x1 = np.array([17,23,1])\n",
    "x2 = np.array(['a','ddd','12'])\n",
    "x3 = np.array([5.5,2,7.5])\n",
    "r = np.core.records.fromarrays([x1,x2,x3],names='a,b,c')\n",
    "print(r[1])"
   ]
  },
  {
   "cell_type": "code",
   "execution_count": 1061,
   "metadata": {},
   "outputs": [
    {
     "data": {
      "text/plain": [
       "array([ 3,  5,  7,  9, 11, 13, 15, 17, 19, 21, 23])"
      ]
     },
     "execution_count": 1061,
     "metadata": {},
     "output_type": "execute_result"
    }
   ],
   "source": [
    "# 15. numpy.arange([start, ]stop, [step, ]dtype=None):\n",
    "\"\"\"\n",
    "Regresa valores con un espacio uniforme dentro de un intervalo dado.\n",
    "Los valores se generan dentro del intervalo medio abierto[inicio, fin)\n",
    "Para argumentos enteros, la función es equivalente a la función de rango \n",
    "usada en el paquete base, pero devuelve un ndarray en lugar de una lista.\n",
    "\n",
    "Nota: Cuando se usa un step no entero, el resultado no será consistente, \n",
    "se recomienda usar numpy.linspace para estos casos. \n",
    "\"\"\"\n",
    "\n",
    "np.arange(3,25,2)"
   ]
  },
  {
   "cell_type": "code",
   "execution_count": 1066,
   "metadata": {},
   "outputs": [
    {
     "data": {
      "text/plain": [
       "array([2.4       , 3.26666667, 4.13333333, 5.        ])"
      ]
     },
     "execution_count": 1066,
     "metadata": {},
     "output_type": "execute_result"
    }
   ],
   "source": [
    "# 16. numpy.linspace(start, stop, num=50, endpoint=True, retstep=False, dtype=None, axis=0):\n",
    "\"\"\"\n",
    "Regresa valores con un espacio uniforme dentro de un intervalo dado.\n",
    "Devuelve num muestras espaciadas uniformemente, calculadas sobre el intervalo\n",
    "[inicio, stop], el punto final del intervalo puede excluirse opcionalmente.\n",
    "\"\"\"\n",
    "\n",
    "np.linspace(2.4,5, num=4)"
   ]
  },
  {
   "cell_type": "code",
   "execution_count": 1077,
   "metadata": {},
   "outputs": [
    {
     "data": {
      "text/plain": [
       "(array([2.4  , 2.925, 3.45 , 3.975, 4.5  ]), 0.525)"
      ]
     },
     "execution_count": 1077,
     "metadata": {},
     "output_type": "execute_result"
    }
   ],
   "source": [
    "np.linspace(2.4,4.5, num=5, retstep=True)"
   ]
  },
  {
   "cell_type": "code",
   "execution_count": 1129,
   "metadata": {},
   "outputs": [
    {
     "data": {
      "text/plain": [
       "array([[[0, 0, 0, 0],\n",
       "        [1, 1, 1, 1],\n",
       "        [2, 2, 2, 2],\n",
       "        [3, 3, 3, 3],\n",
       "        [4, 4, 4, 4]],\n",
       "\n",
       "       [[0, 1, 2, 3],\n",
       "        [0, 1, 2, 3],\n",
       "        [0, 1, 2, 3],\n",
       "        [0, 1, 2, 3],\n",
       "        [0, 1, 2, 3]]])"
      ]
     },
     "execution_count": 1129,
     "metadata": {},
     "output_type": "execute_result"
    }
   ],
   "source": [
    "# 17. numpy.mgrid = <numpy.lib.index_tricks.MGridClass object>:\n",
    "\"\"\"\n",
    "Devuelve una malla de malla multidimensional cuando está indexada para que \n",
    "cada argumento devuelto tenga la misma forma. \n",
    "\"\"\"\n",
    "\n",
    "np.mgrid[0:5,:4]"
   ]
  },
  {
   "cell_type": "code",
   "execution_count": 1131,
   "metadata": {},
   "outputs": [
    {
     "data": {
      "text/plain": [
       "array([-1. , -0.5,  0. ,  0.5,  1. ])"
      ]
     },
     "execution_count": 1131,
     "metadata": {},
     "output_type": "execute_result"
    }
   ],
   "source": [
    "# 18. numpy.ogrid = <numpy.lib.index_tricks.OGridClass object>:\n",
    "\"\"\"\n",
    "Devuelve una malla de mallas multidimensionales abierta.\n",
    "\"\"\"\n",
    "from numpy import ogrid\n",
    "ogrid[-1:1:5j]"
   ]
  },
  {
   "cell_type": "code",
   "execution_count": 1132,
   "metadata": {},
   "outputs": [
    {
     "data": {
      "text/plain": [
       "[array([[0],\n",
       "        [1],\n",
       "        [2],\n",
       "        [3],\n",
       "        [4]]), array([[1, 2, 3]])]"
      ]
     },
     "execution_count": 1132,
     "metadata": {},
     "output_type": "execute_result"
    }
   ],
   "source": [
    "ogrid[0:5,1:4]"
   ]
  },
  {
   "cell_type": "code",
   "execution_count": 1134,
   "metadata": {},
   "outputs": [
    {
     "data": {
      "text/plain": [
       "array([[ 0,  1,  2,  3,  4],\n",
       "       [ 5,  6,  7,  8,  9],\n",
       "       [10, 11, 12, 13, 14],\n",
       "       [15, 16, 17, 18, 19]])"
      ]
     },
     "execution_count": 1134,
     "metadata": {},
     "output_type": "execute_result"
    }
   ],
   "source": [
    "# 19. numpy.diag(v, k=0):\n",
    "\"\"\"\n",
    "Extrae una diagonal o construye una matriz diagonal.\n",
    "\"\"\"\n",
    "\n",
    "j = np.arange(20).reshape(4,5)\n",
    "j"
   ]
  },
  {
   "cell_type": "code",
   "execution_count": 1135,
   "metadata": {},
   "outputs": [
    {
     "data": {
      "text/plain": [
       "array([ 0,  6, 12, 18])"
      ]
     },
     "execution_count": 1135,
     "metadata": {},
     "output_type": "execute_result"
    }
   ],
   "source": [
    "np.diag(j)"
   ]
  },
  {
   "cell_type": "code",
   "execution_count": 1136,
   "metadata": {},
   "outputs": [
    {
     "data": {
      "text/plain": [
       "array([ 2,  8, 14])"
      ]
     },
     "execution_count": 1136,
     "metadata": {},
     "output_type": "execute_result"
    }
   ],
   "source": [
    "np.diag(j, k=2)"
   ]
  },
  {
   "cell_type": "code",
   "execution_count": 1138,
   "metadata": {},
   "outputs": [
    {
     "data": {
      "text/plain": [
       "array([[ 0,  0,  0,  0],\n",
       "       [ 0,  6,  0,  0],\n",
       "       [ 0,  0, 12,  0],\n",
       "       [ 0,  0,  0, 18]])"
      ]
     },
     "execution_count": 1138,
     "metadata": {},
     "output_type": "execute_result"
    }
   ],
   "source": [
    "np.diag(np.diag(j))"
   ]
  },
  {
   "cell_type": "code",
   "execution_count": 1148,
   "metadata": {},
   "outputs": [
    {
     "data": {
      "text/plain": [
       "array([[ 6,  0,  0,  0,  0,  0],\n",
       "       [ 0,  2,  0,  0,  0,  0],\n",
       "       [ 0,  0, 20,  0,  0,  0],\n",
       "       [ 0,  0,  0,  5,  0,  0],\n",
       "       [ 0,  0,  0,  0,  6,  0],\n",
       "       [ 0,  0,  0,  0,  0,  7]])"
      ]
     },
     "execution_count": 1148,
     "metadata": {},
     "output_type": "execute_result"
    }
   ],
   "source": [
    "# 20. numpy.diagflat(v, k=0):\n",
    "\"\"\"\n",
    "Crea una matriz de bidimensional con la entrada aplanada (flattened input)\n",
    "como una diagonal.\n",
    "\"\"\"\n",
    "np.diagflat([[6,2],[20,5],[6,7]])"
   ]
  },
  {
   "cell_type": "code",
   "execution_count": 1158,
   "metadata": {},
   "outputs": [
    {
     "data": {
      "text/plain": [
       "array([[0, 0, 0, 0],\n",
       "       [0, 0, 0, 0],\n",
       "       [6, 0, 0, 0],\n",
       "       [0, 5, 0, 0]])"
      ]
     },
     "execution_count": 1158,
     "metadata": {},
     "output_type": "execute_result"
    }
   ],
   "source": [
    "np.diagflat([6,5], -2)"
   ]
  },
  {
   "cell_type": "code",
   "execution_count": 1163,
   "metadata": {},
   "outputs": [
    {
     "data": {
      "text/plain": [
       "array([[0., 0., 0., 0., 0., 0., 0.],\n",
       "       [1., 0., 0., 0., 0., 0., 0.],\n",
       "       [1., 1., 0., 0., 0., 0., 0.],\n",
       "       [1., 1., 1., 0., 0., 0., 0.],\n",
       "       [1., 1., 1., 1., 0., 0., 0.]])"
      ]
     },
     "execution_count": 1163,
     "metadata": {},
     "output_type": "execute_result"
    }
   ],
   "source": [
    "# 21. numpy.tri(N, M=None, k=0, dtype=<class 'float'>):\n",
    "\"\"\"\n",
    "Devuelve una matriz con unos debajo de la diagonal principal, y el resto con zeros.\n",
    "\"\"\"\n",
    "\n",
    "np.tri(5,7, -1)"
   ]
  },
  {
   "cell_type": "code",
   "execution_count": 1177,
   "metadata": {},
   "outputs": [
    {
     "data": {
      "text/plain": [
       "array([[ 0,  0,  0],\n",
       "       [ 0,  0,  0],\n",
       "       [ 7,  0,  0],\n",
       "       [ 2, 21,  0]])"
      ]
     },
     "execution_count": 1177,
     "metadata": {},
     "output_type": "execute_result"
    }
   ],
   "source": [
    "# 22. numpy.tril(m, k=0):\n",
    "\"\"\"\n",
    "Triángulo inferior de una matriz. Devuelve una copia de una \n",
    "matriz con elementos por encima de la diagonal k-ésima puesta a cero.\n",
    "\"\"\"\n",
    "\n",
    "np.tril([[1,2,3],[4,9,6],[7,34,9],[2,21,12]], -2)"
   ]
  },
  {
   "cell_type": "code",
   "execution_count": 1179,
   "metadata": {},
   "outputs": [
    {
     "data": {
      "text/plain": [
       "array([[0, 2, 3],\n",
       "       [0, 0, 6],\n",
       "       [0, 0, 0],\n",
       "       [0, 0, 0],\n",
       "       [0, 0, 0]])"
      ]
     },
     "execution_count": 1179,
     "metadata": {},
     "output_type": "execute_result"
    }
   ],
   "source": [
    "# 23. numpy.triu(m, k=0):\n",
    "\"\"\"\n",
    "Triángulo superior de una matriz. Devuelve una copia de una matriz con los \n",
    "elementos debajo de la diagonal k-ésima puesta a cero.\n",
    "\"\"\"\n",
    "\n",
    "np.triu([[1,2,3],[4,9,6],[7,34,9],[2,21,12],[2,1,87]], 1)"
   ]
  },
  {
   "cell_type": "code",
   "execution_count": 1185,
   "metadata": {},
   "outputs": [
    {
     "data": {
      "text/plain": [
       "matrix([[ 1,  2],\n",
       "        [ 3, 17]])"
      ]
     },
     "execution_count": 1185,
     "metadata": {},
     "output_type": "execute_result"
    }
   ],
   "source": [
    "# 24. numpy.mat(data, dtype=None):\n",
    "\"\"\"\n",
    "Interpreta la entrada como una matriz. A diferencia de la matriz, asmatriz \n",
    "no hace una copia si la entrada ya es una matriz o un ndarray. Equivalente\n",
    "a la matriz (datos, copia=False)\n",
    "\"\"\"\n",
    "\n",
    "h = np.array([[1,2],[3,5]])\n",
    "m = np.asmatrix(h)\n",
    "h[1,1]=17\n",
    "m"
   ]
  },
  {
   "cell_type": "code",
   "execution_count": 1189,
   "metadata": {},
   "outputs": [
    {
     "data": {
      "text/plain": [
       "matrix([[1, 1, 2, 2],\n",
       "        [1, 1, 2, 2],\n",
       "        [3, 4, 7, 8],\n",
       "        [5, 6, 9, 0]])"
      ]
     },
     "execution_count": 1189,
     "metadata": {},
     "output_type": "execute_result"
    }
   ],
   "source": [
    "# 25. numpy.bmat(obj, ldict=None, gdict=None):\n",
    "\"\"\"\n",
    "Construye un objeto de una matriz a partir de una cadena, secuencia anidada\n",
    "o una matriz.\n",
    "\"\"\"\n",
    "A = np.mat('1 1; 1 1')\n",
    "B = np.mat('2 2; 2 2')\n",
    "C = np.mat('3 4; 5 6')\n",
    "D = np.mat('7 8; 9 0')\n",
    "\n",
    "np.bmat([[A,B],[C,D]])"
   ]
  },
  {
   "cell_type": "code",
   "execution_count": 1190,
   "metadata": {},
   "outputs": [
    {
     "data": {
      "text/plain": [
       "(5, 2)"
      ]
     },
     "execution_count": 1190,
     "metadata": {},
     "output_type": "execute_result"
    }
   ],
   "source": [
    "# 26. numpy.shape(a):\n",
    "\"\"\"\n",
    "Devuelve la forma de una matriz.\n",
    "\"\"\"\n",
    "\n",
    "q = np.ones((5,2), dtype= np.int16)       # Segunda matriz con unos\n",
    "q.shape"
   ]
  },
  {
   "cell_type": "code",
   "execution_count": 1210,
   "metadata": {},
   "outputs": [
    {
     "data": {
      "text/plain": [
       "array([[84, 40],\n",
       "       [75, 83],\n",
       "       [63, 53],\n",
       "       [63, 74],\n",
       "       [38, 40],\n",
       "       [28, 80],\n",
       "       [46, 64],\n",
       "       [36, 67],\n",
       "       [45, 77],\n",
       "       [78, 52]])"
      ]
     },
     "execution_count": 1210,
     "metadata": {},
     "output_type": "execute_result"
    }
   ],
   "source": [
    "# 27. numpy.reshape(a, newshape, order='C'):\n",
    "\"\"\"\n",
    "Devuelve una nueva forma para una matriz sin cambiar su data. \n",
    "\"\"\"\n",
    "\n",
    "a = np.random.randint(100,size=([4,5]))\n",
    "b = a.reshape(10,2)\n",
    "b"
   ]
  },
  {
   "cell_type": "code",
   "execution_count": 1209,
   "metadata": {},
   "outputs": [
    {
     "data": {
      "text/plain": [
       "array([1, 4, 2, 5, 3, 6])"
      ]
     },
     "execution_count": 1209,
     "metadata": {},
     "output_type": "execute_result"
    }
   ],
   "source": [
    "c = a = np.array([[1,2,3], [4,5,6]])\n",
    "np.reshape(c, 6, order='F')"
   ]
  },
  {
   "cell_type": "code",
   "execution_count": 1217,
   "metadata": {},
   "outputs": [
    {
     "data": {
      "text/plain": [
       "array([10,  9,  8,  7,  6,  5,  4,  3,  2,  1,  0])"
      ]
     },
     "execution_count": 1217,
     "metadata": {},
     "output_type": "execute_result"
    }
   ],
   "source": [
    "# 28. numpy.ravel(a, order='C'):\n",
    "\"\"\"\n",
    "Devuelve una matriz aplanada contigua.Se devuelve una matriz \n",
    "unidimensional que contiene los elementos de la entrada. Se realiza \n",
    "una copia sólo si es necesario. \n",
    "\"\"\"\n",
    "\n",
    "a = np.arange(11)[::-1]; \n",
    "a"
   ]
  },
  {
   "cell_type": "code",
   "execution_count": 1228,
   "metadata": {},
   "outputs": [
    {
     "data": {
      "text/plain": [
       "7"
      ]
     },
     "execution_count": 1228,
     "metadata": {},
     "output_type": "execute_result"
    }
   ],
   "source": [
    "# 29. numpy.ndarray.flat:\n",
    "\"\"\"\n",
    "Es un iterador unidimensional sobre la matriz.\n",
    "\"\"\"\n",
    "\n",
    "x = np.arange(1, 18, 2).reshape(3, 3)\n",
    "x.flat[3]\n"
   ]
  },
  {
   "cell_type": "code",
   "execution_count": 1233,
   "metadata": {},
   "outputs": [
    {
     "data": {
      "text/plain": [
       "array([1, 8, 4, 2])"
      ]
     },
     "execution_count": 1233,
     "metadata": {},
     "output_type": "execute_result"
    }
   ],
   "source": [
    "# 30. numpy.ndarray.flatten(order='C'):\n",
    "\"\"\"\n",
    "Devuelve una copia de una matriz contraída en una unidimensional.\n",
    "\"\"\"\n",
    "\n",
    "a = np.array([[1,4], [8,2]])\n",
    "a.flatten('F')"
   ]
  },
  {
   "cell_type": "code",
   "execution_count": 1238,
   "metadata": {},
   "outputs": [
    {
     "data": {
      "text/plain": [
       "(5, 3, 4)"
      ]
     },
     "execution_count": 1238,
     "metadata": {},
     "output_type": "execute_result"
    }
   ],
   "source": [
    "# 31. numpy.moveaxis(a, source, destination):\n",
    "\"\"\"\n",
    "Mueve los ejes de una matriz a  nuevas posiciones. Otros ejes permanecen\n",
    "en su orden original.\n",
    "\"\"\"\n",
    "\n",
    "x = np.zeros((3, 4, 5))\n",
    "np.moveaxis(x,-1,0).shape"
   ]
  },
  {
   "cell_type": "code",
   "execution_count": 1240,
   "metadata": {},
   "outputs": [
    {
     "data": {
      "text/plain": [
       "(7, 10, 4, 5, 5)"
      ]
     },
     "execution_count": 1240,
     "metadata": {},
     "output_type": "execute_result"
    }
   ],
   "source": [
    "# 32. numpy.rollaxis(a, axis, start=0):\n",
    "\"\"\"\n",
    "Gire el eje especificado hacia atrás, hasta que se encuentre en una \n",
    "posición determinada. \n",
    "\"\"\"\n",
    "\n",
    "a = np.ones((7,4,5,10,5))\n",
    "np.rollaxis(a, 3, 1).shape"
   ]
  },
  {
   "cell_type": "code",
   "execution_count": 1245,
   "metadata": {},
   "outputs": [
    {
     "data": {
      "text/plain": [
       "array([[[0, 4],\n",
       "        [2, 6]],\n",
       "\n",
       "       [[1, 5],\n",
       "        [3, 7]]])"
      ]
     },
     "execution_count": 1245,
     "metadata": {},
     "output_type": "execute_result"
    }
   ],
   "source": [
    "# 33. numpy.swapaxes(a, axis1, axis2):\n",
    "\"\"\"\n",
    "Intercambia 2 ejes en una matriz.\n",
    "\"\"\"\n",
    "\n",
    "y = np.array([[[0,1],[2,3]],[[4,5],[6,7]]])\n",
    "z = np.swapaxes(y,0,2)\n",
    "z"
   ]
  },
  {
   "cell_type": "code",
   "execution_count": 1253,
   "metadata": {},
   "outputs": [
    {
     "data": {
      "text/plain": [
       "array([[  5,   4],\n",
       "       [ 21,   3],\n",
       "       [982,  12]])"
      ]
     },
     "execution_count": 1253,
     "metadata": {},
     "output_type": "execute_result"
    }
   ],
   "source": [
    "# 34. numpy.ndarray.T:\n",
    "\"\"\"\n",
    "Devuelve la matriz traspuesta. Es igual que self.transpose().\n",
    "\"\"\"\n",
    "x = np.array([[5,21,982],[4,3,12]])\n",
    "x.T"
   ]
  },
  {
   "cell_type": "code",
   "execution_count": 1257,
   "metadata": {},
   "outputs": [
    {
     "data": {
      "text/plain": [
       "array([[  5,   4],\n",
       "       [ 21,   3],\n",
       "       [982,  12]])"
      ]
     },
     "execution_count": 1257,
     "metadata": {},
     "output_type": "execute_result"
    }
   ],
   "source": [
    "# 35. numpy.transpose(a.axes=None):\n",
    "\"\"\"\n",
    "Invierta o permute los ejes de una matriz; Devuelve la matriz modificada. \n",
    "Para una matriz a con dos ejes, la transpuesta proporciona la matriz\n",
    "transpuesta. \n",
    "\"\"\"\n",
    "\n",
    "x = np.array([[5,21,982],[4,3,12]])\n",
    "np.transpose(x)"
   ]
  },
  {
   "cell_type": "code",
   "execution_count": 1260,
   "metadata": {},
   "outputs": [
    {
     "data": {
      "text/plain": [
       "array([100.])"
      ]
     },
     "execution_count": 1260,
     "metadata": {},
     "output_type": "execute_result"
    }
   ],
   "source": [
    "# 36. numpy.atleast_1d(*arys):\n",
    "\"\"\"\n",
    "Convierte los inputs en matrices con al menos una dimensión. Las entradas\n",
    "escalares se convierten en matrices unidimensionales, mientras que \n",
    "los inputs de más dimensiones se conservan. \n",
    "También están .atleast_2d y 3d para 2 y 3 dimensiones.\n",
    "\"\"\"\n",
    "\n",
    "np.atleast_1d(100.0)"
   ]
  },
  {
   "cell_type": "code",
   "execution_count": 1266,
   "metadata": {},
   "outputs": [
    {
     "data": {
      "text/plain": [
       "array([[ 0,  1,  2,  3],\n",
       "       [ 4,  5,  6,  7],\n",
       "       [ 8,  9, 10, 11],\n",
       "       [12, 13, 14, 15]])"
      ]
     },
     "execution_count": 1266,
     "metadata": {},
     "output_type": "execute_result"
    }
   ],
   "source": [
    "x = np.arange(16).reshape(4,4)\n",
    "np.atleast_1d(x)"
   ]
  },
  {
   "cell_type": "code",
   "execution_count": 1272,
   "metadata": {},
   "outputs": [
    {
     "data": {
      "text/plain": [
       "array([[3, 4, 5],\n",
       "       [3, 4, 5],\n",
       "       [3, 4, 5],\n",
       "       [3, 4, 5],\n",
       "       [3, 4, 5]])"
      ]
     },
     "execution_count": 1272,
     "metadata": {},
     "output_type": "execute_result"
    }
   ],
   "source": [
    "# 37. numpy.broadcast_to(array,shape,subok=False):\n",
    "\"\"\"\n",
    "Transmite una matriz a una nueva forma.\n",
    "\"\"\"\n",
    "\n",
    "x = np.array([3,4,5])\n",
    "np.broadcast_to(x, (5, 3))"
   ]
  },
  {
   "cell_type": "code",
   "execution_count": 1276,
   "metadata": {},
   "outputs": [
    {
     "data": {
      "text/plain": [
       "[array([[ 1,  5, 12],\n",
       "        [ 1,  5, 12],\n",
       "        [ 1,  5, 12],\n",
       "        [ 1,  5, 12]]), array([[3, 3, 3],\n",
       "        [5, 5, 5],\n",
       "        [1, 1, 1],\n",
       "        [9, 9, 9]])]"
      ]
     },
     "execution_count": 1276,
     "metadata": {},
     "output_type": "execute_result"
    }
   ],
   "source": [
    "# 38. numpy.broadcast_arrays(*args, subok=False):\n",
    "\"\"\"\n",
    "Transmite cualquier número de matrices entre sí. \n",
    "\"\"\"\n",
    "\n",
    "n = np.array([[1,5,12]])\n",
    "m = np.array([[3],[5],[1],[9]])\n",
    "np.broadcast_arrays(n,m)"
   ]
  },
  {
   "cell_type": "code",
   "execution_count": 1282,
   "metadata": {},
   "outputs": [
    {
     "data": {
      "text/plain": [
       "array([[1, 2]])"
      ]
     },
     "execution_count": 1282,
     "metadata": {},
     "output_type": "execute_result"
    }
   ],
   "source": [
    "# 39. numpy.expand_dims(a, axis):\n",
    "\"\"\"\n",
    "Expande la forma de una matriz. Inserta un nuevo eje que aparecerá en \n",
    "la posición del eje en la forma de matriz expandida.\n",
    "\"\"\"\n",
    "x = np.array([1, 2])\n",
    "y = np.expand_dims(x, axis=0)\n",
    "y"
   ]
  },
  {
   "cell_type": "code",
   "execution_count": 1285,
   "metadata": {},
   "outputs": [
    {
     "data": {
      "text/plain": [
       "array([0, 1, 2])"
      ]
     },
     "execution_count": 1285,
     "metadata": {},
     "output_type": "execute_result"
    }
   ],
   "source": [
    "# 40. numpy.squeeze(a,axis=None):\n",
    "\"\"\"\n",
    "Elimina entradas unidimensionales de la forma de una matriz.\n",
    "\"\"\"\n",
    "\n",
    "x = np.array([[[0], [1], [2]]])\n",
    "np.squeeze(x)"
   ]
  },
  {
   "cell_type": "code",
   "execution_count": 5,
   "metadata": {},
   "outputs": [
    {
     "data": {
      "text/plain": [
       "array({(1, 2), (6, 9), (4, 5)}, dtype=object)"
      ]
     },
     "execution_count": 5,
     "metadata": {},
     "output_type": "execute_result"
    }
   ],
   "source": [
    "# 41. numpy.asarray(a, dtype=None, order=None):\n",
    "\"\"\"\n",
    "Convierte una entrada en una matriz\n",
    "\"\"\"\n",
    "c = {(1,2),(4,5),(6,9)}\n",
    "np.asarray(c)\n"
   ]
  },
  {
   "cell_type": "code",
   "execution_count": 6,
   "metadata": {},
   "outputs": [
    {
     "data": {
      "text/plain": [
       "array([2., 3.])"
      ]
     },
     "execution_count": 6,
     "metadata": {},
     "output_type": "execute_result"
    }
   ],
   "source": [
    "# 42. numpy.asfarray(a, dtype=<class 'numpy.float64'>):\n",
    "\"\"\"\n",
    "Devuelve una matriz convertida en tipo float.\n",
    "\"\"\"\n",
    "\n",
    "np.asfarray([2, 3], dtype='float')"
   ]
  },
  {
   "cell_type": "code",
   "execution_count": 15,
   "metadata": {},
   "outputs": [
    {
     "data": {
      "text/plain": [
       "array([[0, 1],\n",
       "       [2, 3],\n",
       "       [4, 5],\n",
       "       [6, 7]])"
      ]
     },
     "execution_count": 15,
     "metadata": {},
     "output_type": "execute_result"
    }
   ],
   "source": [
    "# 43. nnumpy.afortranarray(a, dtype=None):\n",
    "\"\"\"\n",
    "Devuelve una matriz contigua unidimensional en orden fortran.\n",
    "\"\"\"\n",
    "f = np.arange(8).reshape(4,2)\n",
    "np.asfortranarray(f)"
   ]
  },
  {
   "cell_type": "code",
   "execution_count": 16,
   "metadata": {},
   "outputs": [
    {
     "data": {
      "text/plain": [
       "array([[0., 1., 2.],\n",
       "       [3., 4., 5.]], dtype=float32)"
      ]
     },
     "execution_count": 16,
     "metadata": {},
     "output_type": "execute_result"
    }
   ],
   "source": [
    "# 44. nnumpy.ascontiguousarray(a, dtype=None):\n",
    "\"\"\"\n",
    "Devuelve una matriz contigua unidimensional en orden c.\n",
    "\"\"\"\n",
    "\n",
    "e = np.arange(6).reshape(2,3)\n",
    "np.ascontiguousarray(e, dtype=np.float32)"
   ]
  },
  {
   "cell_type": "code",
   "execution_count": 17,
   "metadata": {},
   "outputs": [
    {
     "data": {
      "text/plain": [
       "17"
      ]
     },
     "execution_count": 17,
     "metadata": {},
     "output_type": "execute_result"
    }
   ],
   "source": [
    "# 45. numpy.asscalar(a):\n",
    "\"\"\"\n",
    "Convierte una matriz de tamaño 1 en su equivalente escalar.\n",
    "\"\"\"\n",
    "\n",
    "np.asscalar(np.array([17]))"
   ]
  },
  {
   "cell_type": "code",
   "execution_count": 19,
   "metadata": {},
   "outputs": [
    {
     "data": {
      "text/plain": [
       "array([[1, 2],\n",
       "       [3, 4],\n",
       "       [5, 6]])"
      ]
     },
     "execution_count": 19,
     "metadata": {},
     "output_type": "execute_result"
    }
   ],
   "source": [
    "# 46. numpy.concatenate(a1, a2, ...), axis=0, out=None):\n",
    "\"\"\"\n",
    "Une una secuencia de matrices a lo largo de los ejes existentes.\n",
    "\"\"\"\n",
    "\n",
    "j = np.array([[1, 2], [3, 4]])\n",
    "o = np.array([[5, 6]])\n",
    "np.concatenate((j,o), axis=0)   # La apilación es de forma vertical."
   ]
  },
  {
   "cell_type": "code",
   "execution_count": 21,
   "metadata": {},
   "outputs": [
    {
     "data": {
      "text/plain": [
       "array([[1, 2],\n",
       "       [2, 3],\n",
       "       [3, 4],\n",
       "       [5, 8]])"
      ]
     },
     "execution_count": 21,
     "metadata": {},
     "output_type": "execute_result"
    }
   ],
   "source": [
    "# 47. numpy.stack(arrays, axis=0, out=None):\n",
    "\"\"\"\n",
    "Une una secuencia de matrices a lo largo de un nuevo eje. El parámetro de \n",
    "eje especifica el índice del nuevo eje in la dimensión del resultado.\n",
    "\"\"\"\n",
    "\n",
    "o = np.array([1, 2, 3, 5])\n",
    "p = np.array([2, 3, 4, 8])\n",
    "np.stack((o, p), axis=-1)"
   ]
  },
  {
   "cell_type": "code",
   "execution_count": 23,
   "metadata": {},
   "outputs": [
    {
     "data": {
      "text/plain": [
       "array([[1, 9],\n",
       "       [2, 8],\n",
       "       [3, 7]])"
      ]
     },
     "execution_count": 23,
     "metadata": {},
     "output_type": "execute_result"
    }
   ],
   "source": [
    "# 48. numpy.colum_stack(tup):\n",
    "\"\"\"\n",
    "Stack matrices unidimensionales como columnas en una matriz bidimensional.\n",
    "\"\"\"\n",
    "\n",
    "a = np.array((1,2,3))\n",
    "b = np.array((9,8,7))\n",
    "np.column_stack((a,b))"
   ]
  },
  {
   "cell_type": "code",
   "execution_count": 26,
   "metadata": {},
   "outputs": [
    {
     "data": {
      "text/plain": [
       "array([[[9, 2],\n",
       "        [8, 3],\n",
       "        [7, 4]]])"
      ]
     },
     "execution_count": 26,
     "metadata": {},
     "output_type": "execute_result"
    }
   ],
   "source": [
    "# 49. numpy.dstack(tup):\n",
    "\"\"\"\n",
    "Stack matrices en una secuencia a lo largo de un tercer eje. Esto es \n",
    "equivalente a la concatenación a lo largo del tercer eje después \n",
    "de que las matrices bidimensionales de forma (m, n) se hayan reformado a \n",
    "(m, n, 1) y las matrices unidimensionales de forma (n,) se hayan reformado \n",
    "a (1, n, 1). Reconstruye matrices divididas por dsplit.\n",
    "\"\"\"\n",
    "\n",
    "a = np.array((9,8,7))\n",
    "b = np.array((2,3,4))\n",
    "c = np.dstack((a,b))\n",
    "c"
   ]
  },
  {
   "cell_type": "code",
   "execution_count": 27,
   "metadata": {},
   "outputs": [
    {
     "data": {
      "text/plain": [
       "3"
      ]
     },
     "execution_count": 27,
     "metadata": {},
     "output_type": "execute_result"
    }
   ],
   "source": [
    "c.ndim   # Apilado en 3 dimensiones."
   ]
  },
  {
   "cell_type": "code",
   "execution_count": 28,
   "metadata": {},
   "outputs": [
    {
     "data": {
      "text/plain": [
       "array([9, 8, 7, 2, 3, 4])"
      ]
     },
     "execution_count": 28,
     "metadata": {},
     "output_type": "execute_result"
    }
   ],
   "source": [
    "# 50. numpy.hstack(tup):\n",
    "\"\"\"\n",
    "Stack matrices en una secuencia horizontal(column wise).\n",
    "\"\"\"\n",
    "\n",
    "a = np.array((9,8,7))\n",
    "b = np.array((2,3,4))\n",
    "np.hstack((a,b))"
   ]
  },
  {
   "cell_type": "code",
   "execution_count": 29,
   "metadata": {},
   "outputs": [
    {
     "data": {
      "text/plain": [
       "array([[9, 8, 7],\n",
       "       [2, 3, 4]])"
      ]
     },
     "execution_count": 29,
     "metadata": {},
     "output_type": "execute_result"
    }
   ],
   "source": [
    "# 51. numpy.vstack(tup):\n",
    "\"\"\"\n",
    "Stack matrices in una secuencia vertical(row wise).\n",
    "\"\"\"\n",
    "\n",
    "a = np.array((9,8,7))\n",
    "b = np.array((2,3,4))\n",
    "np.vstack((a,b))\n",
    "\n",
    "revisar numpy.block"
   ]
  },
  {
   "cell_type": "code",
   "execution_count": 30,
   "metadata": {},
   "outputs": [
    {
     "data": {
      "text/plain": [
       "[array([0, 1, 2]), array([3, 4, 5]), array([6, 7, 8]), array([ 9, 10, 11])]"
      ]
     },
     "execution_count": 30,
     "metadata": {},
     "output_type": "execute_result"
    }
   ],
   "source": [
    "# 52. numpy.split(ary, indices_or_sections, axis=0):\n",
    "\"\"\"\n",
    "Parte una matriz en submatrices como vistas in ary.\n",
    "\"\"\"\n",
    "\n",
    "x = np.arange(12)\n",
    "np.split(x, 4)"
   ]
  },
  {
   "cell_type": "code",
   "execution_count": 34,
   "metadata": {},
   "outputs": [
    {
     "data": {
      "text/plain": [
       "[array([0, 1, 2, 3]), array([4, 5, 6, 7]), array([ 8,  9, 10])]"
      ]
     },
     "execution_count": 34,
     "metadata": {},
     "output_type": "execute_result"
    }
   ],
   "source": [
    "# 53. numpy.array_split(ary, indices_or_sections, axis=0):\n",
    "\"\"\"\n",
    "Parte una matriz en múltiples submatrices.\n",
    "\"\"\"\n",
    "\n",
    "y = np.arange(11)\n",
    "np.array_split(y, 3)"
   ]
  },
  {
   "cell_type": "code",
   "execution_count": 40,
   "metadata": {},
   "outputs": [
    {
     "data": {
      "text/plain": [
       "array([[[ 0,  1,  2,  3],\n",
       "        [ 4,  5,  6,  7]],\n",
       "\n",
       "       [[ 8,  9, 10, 11],\n",
       "        [12, 13, 14, 15]]])"
      ]
     },
     "execution_count": 40,
     "metadata": {},
     "output_type": "execute_result"
    }
   ],
   "source": [
    "# 54. numpy.dsplit(ary, indices_or_sections):\n",
    "\"\"\"\n",
    "Parte una matriz en múltiples submatrices a lo largo del eje en tercera \n",
    "dimensión.\n",
    "\"\"\"\n",
    "g = np.arange(16).reshape(2, 2, 4)\n",
    "g"
   ]
  },
  {
   "cell_type": "code",
   "execution_count": 41,
   "metadata": {},
   "outputs": [
    {
     "data": {
      "text/plain": [
       "[array([[[ 0,  1],\n",
       "         [ 4,  5]],\n",
       " \n",
       "        [[ 8,  9],\n",
       "         [12, 13]]]), array([[[ 2,  3],\n",
       "         [ 6,  7]],\n",
       " \n",
       "        [[10, 11],\n",
       "         [14, 15]]])]"
      ]
     },
     "execution_count": 41,
     "metadata": {},
     "output_type": "execute_result"
    }
   ],
   "source": [
    "np.dsplit(g,2)"
   ]
  },
  {
   "cell_type": "code",
   "execution_count": 44,
   "metadata": {},
   "outputs": [
    {
     "data": {
      "text/plain": [
       "[array([[ 0,  1],\n",
       "        [ 4,  5],\n",
       "        [ 8,  9],\n",
       "        [12, 13]]), array([[ 2,  3],\n",
       "        [ 6,  7],\n",
       "        [10, 11],\n",
       "        [14, 15]])]"
      ]
     },
     "execution_count": 44,
     "metadata": {},
     "output_type": "execute_result"
    }
   ],
   "source": [
    "# 55. numpy.hsplit(ary, indices_or_sections):\n",
    "\"\"\"\n",
    "Parte un arreglo en submatrices horizontales(column-wise).\n",
    "\"\"\"\n",
    "\n",
    "z = np.arange(16).reshape(4, 4)\n",
    "np.hsplit(z, 2)"
   ]
  },
  {
   "cell_type": "code",
   "execution_count": 45,
   "metadata": {},
   "outputs": [
    {
     "data": {
      "text/plain": [
       "[array([[0, 1, 2, 3],\n",
       "        [4, 5, 6, 7]]), array([[ 8,  9, 10, 11],\n",
       "        [12, 13, 14, 15]])]"
      ]
     },
     "execution_count": 45,
     "metadata": {},
     "output_type": "execute_result"
    }
   ],
   "source": [
    "# 56. numpy.vsplit(ary, indices_or_sections):\n",
    "\"\"\"\n",
    "Parte un arreglo en submatrices verticales(row-wise).\n",
    "\"\"\"\n",
    "\n",
    "z = np.arange(16).reshape(4, 4)\n",
    "np.vsplit(z, 2)"
   ]
  },
  {
   "cell_type": "code",
   "execution_count": 47,
   "metadata": {},
   "outputs": [
    {
     "data": {
      "text/plain": [
       "array([[ 0,  0,  0,  1,  1,  1,  2,  2,  2,  3,  3,  3],\n",
       "       [ 4,  4,  4,  5,  5,  5,  6,  6,  6,  7,  7,  7],\n",
       "       [ 8,  8,  8,  9,  9,  9, 10, 10, 10, 11, 11, 11],\n",
       "       [12, 12, 12, 13, 13, 13, 14, 14, 14, 15, 15, 15]])"
      ]
     },
     "execution_count": 47,
     "metadata": {},
     "output_type": "execute_result"
    }
   ],
   "source": [
    "# 57. numpy.repeat(a, repeats, axis=None):\n",
    "\"\"\"\n",
    "Repite elementos de una matriz.\n",
    "\"\"\"\n",
    "\n",
    "np.repeat(x, 3, axis=1)"
   ]
  },
  {
   "cell_type": "code",
   "execution_count": 48,
   "metadata": {},
   "outputs": [
    {
     "data": {
      "text/plain": [
       "array([list([1, 2, 3, 4]), list([9, 10, 11, 12]), list([20, 19])],\n",
       "      dtype=object)"
      ]
     },
     "execution_count": 48,
     "metadata": {},
     "output_type": "execute_result"
    }
   ],
   "source": [
    "# 58. numpy.delete(arr, obj, axis=None):\n",
    "\"\"\"\n",
    "Regresa una nueva matriz con submatrices a lo largo de un eje borrado. Para\n",
    "matrices de una dimensión, regresa aquellas entradas que  no regresa arr[obj].\n",
    "\"\"\"\n",
    "\n",
    "arr = np.array([[1,2,3,4], [5,6,7,8], [9,10,11,12],[20,19]])\n",
    "np.delete(arr, 1,0)"
   ]
  },
  {
   "cell_type": "code",
   "execution_count": 49,
   "metadata": {},
   "outputs": [
    {
     "data": {
      "text/plain": [
       "array([1, 5, 1, 2, 2, 3, 3])"
      ]
     },
     "execution_count": 49,
     "metadata": {},
     "output_type": "execute_result"
    }
   ],
   "source": [
    "# 59. numpy.insert(arr, obj, axis=None):\n",
    "\"\"\"\n",
    "Inserta valores a lo largo de unos ejes dados antes de unos índices dados.\n",
    "\"\"\"\n",
    "\n",
    "c = np.array([[1, 1], [2, 2], [3, 3]])\n",
    "c\n",
    "np.insert(c, 1, 5)\n"
   ]
  },
  {
   "cell_type": "code",
   "execution_count": 50,
   "metadata": {},
   "outputs": [
    {
     "data": {
      "text/plain": [
       "array([[ 1,  2,  3],\n",
       "       [56, 17, 12],\n",
       "       [ 7,  8,  9]])"
      ]
     },
     "execution_count": 50,
     "metadata": {},
     "output_type": "execute_result"
    }
   ],
   "source": [
    "# 60. numpy.append(arr, obj, axis=None):\n",
    "\"\"\"\n",
    "Agrega valores al final de una arreglo.\n",
    "Nota: When axis is specified, values must have the correct shape.\n",
    "\"\"\"\n",
    "\n",
    "np.append([[1, 2, 3], [56, 17, 12]], [[7, 8, 9]], axis=0)"
   ]
  },
  {
   "cell_type": "code",
   "execution_count": 52,
   "metadata": {},
   "outputs": [
    {
     "data": {
      "text/plain": [
       "array([[0, 1, 2],\n",
       "       [3, 0, 1]])"
      ]
     },
     "execution_count": 52,
     "metadata": {},
     "output_type": "execute_result"
    }
   ],
   "source": [
    "# 61. numpy.resize(a, new_shape):\n",
    "\"\"\"\n",
    "Devuelve una nueva matriz con una forma específica. Si la nueva matriz \n",
    "es más grande que la original, entonces este nuevo arreglo será llenado con\n",
    "copias repetidas de a. Esto es diferente a a.resize(new_shape) que llena \n",
    "con ceros en lugar de copias repetidas de a. \n",
    "\"\"\"\n",
    "\n",
    "a=np.array([[0,1],[2,3]])\n",
    "np.resize(a,(2,3))"
   ]
  },
  {
   "cell_type": "code",
   "execution_count": 54,
   "metadata": {},
   "outputs": [
    {
     "data": {
      "text/plain": [
       "array([1, 2, 3, 0, 2, 1])"
      ]
     },
     "execution_count": 54,
     "metadata": {},
     "output_type": "execute_result"
    }
   ],
   "source": [
    "# 62. numpy.trim_zeros(filt, trim='fb')\n",
    "\"\"\"\n",
    "Recorta los ceros iniciales y/o finales de una matriz unidimensional o \n",
    "secuencia unidimensional.\n",
    "\"\"\"\n",
    "a = np.array((0, 0, 0, 1, 2, 3, 0, 2, 1, 0))\n",
    "np.trim_zeros(a)"
   ]
  },
  {
   "cell_type": "code",
   "execution_count": 58,
   "metadata": {},
   "outputs": [
    {
     "data": {
      "text/plain": [
       "array([1, 2, 3])"
      ]
     },
     "execution_count": 58,
     "metadata": {},
     "output_type": "execute_result"
    }
   ],
   "source": [
    "# 63. numpy.unique(ar, return_index=False, return_inverse=False, return_counts=False, axis=None):\n",
    "\"\"\"\n",
    "Encuentra los elementos únicos de una matriz. Hay tres salidas opcionales\n",
    "además de los elementos únicos:\n",
    "- Los índices de la matriz de entrada que dan los valores únicos. \n",
    "- Los índices de la matriz única que reconstruye la matriz de entrada.\n",
    "- La cantidad de veces que cada valor único aparece en la matriz de entrada\n",
    "\"\"\"\n",
    "\n",
    "a = np.array([[1, 1], [2, 3]])\n",
    "np.unique(a)"
   ]
  },
  {
   "cell_type": "code",
   "execution_count": 57,
   "metadata": {},
   "outputs": [
    {
     "data": {
      "text/plain": [
       "array([[1, 0, 0],\n",
       "       [2, 3, 4]])"
      ]
     },
     "execution_count": 57,
     "metadata": {},
     "output_type": "execute_result"
    }
   ],
   "source": [
    "a = np.array([[1, 0, 0], [1, 0, 0], [2, 3, 4]])\n",
    "np.unique(a, axis=0)"
   ]
  },
  {
   "cell_type": "code",
   "execution_count": 67,
   "metadata": {},
   "outputs": [
    {
     "data": {
      "text/plain": [
       "array([[[0, 1],\n",
       "        [2, 3]],\n",
       "\n",
       "       [[4, 5],\n",
       "        [6, 7]]])"
      ]
     },
     "execution_count": 67,
     "metadata": {},
     "output_type": "execute_result"
    }
   ],
   "source": [
    "# 64. numpy.flip(m, axis=None):\n",
    "\"\"\"\n",
    "Da la vuelta al orden de los elementos en una matriz a lo largo de un eje dado.\n",
    "La forma de la matriz se mantiene, pero los elementos son reordenados.\n",
    "\"\"\"\n",
    "\n",
    "y = np.arange(8).reshape((2,2,2))\n",
    "y"
   ]
  },
  {
   "cell_type": "code",
   "execution_count": 68,
   "metadata": {},
   "outputs": [
    {
     "data": {
      "text/plain": [
       "array([[[2, 3],\n",
       "        [0, 1]],\n",
       "\n",
       "       [[6, 7],\n",
       "        [4, 5]]])"
      ]
     },
     "execution_count": 68,
     "metadata": {},
     "output_type": "execute_result"
    }
   ],
   "source": [
    "np.flip(y,1)"
   ]
  },
  {
   "cell_type": "code",
   "execution_count": 73,
   "metadata": {},
   "outputs": [
    {
     "data": {
      "text/plain": [
       "array([[ 1.,  0.,  0.,  0.],\n",
       "       [ 0., 17.,  0.,  0.],\n",
       "       [ 0.,  0.,  3.,  0.],\n",
       "       [ 0.,  0.,  0.,  4.]])"
      ]
     },
     "execution_count": 73,
     "metadata": {},
     "output_type": "execute_result"
    }
   ],
   "source": [
    "# 65. numpy.fliplr(m):\n",
    "\"\"\"\n",
    "Voltea la matriz en la dirección izquierda/derecha. Voltea las entradas en \n",
    "cada fila en la dirección izquierda/derecha. Las columnas se conservan, \n",
    "pero aparecen en un orden diferente al anterior.\n",
    "\n",
    "Notes :Equivalent to m[:,::-1]. Requires the array to be at least 2-D.\n",
    "\"\"\"\n",
    "A = np.diag([1.,17.,3.,4.])\n",
    "A"
   ]
  },
  {
   "cell_type": "code",
   "execution_count": 74,
   "metadata": {},
   "outputs": [
    {
     "data": {
      "text/plain": [
       "array([[ 0.,  0.,  0.,  1.],\n",
       "       [ 0.,  0., 17.,  0.],\n",
       "       [ 0.,  3.,  0.,  0.],\n",
       "       [ 4.,  0.,  0.,  0.]])"
      ]
     },
     "execution_count": 74,
     "metadata": {},
     "output_type": "execute_result"
    }
   ],
   "source": [
    "np.fliplr(A)"
   ]
  },
  {
   "cell_type": "code",
   "execution_count": 76,
   "metadata": {},
   "outputs": [
    {
     "data": {
      "text/plain": [
       "array([[4, 2, 9],\n",
       "       [9, 7, 4],\n",
       "       [0, 2, 4]])"
      ]
     },
     "execution_count": 76,
     "metadata": {},
     "output_type": "execute_result"
    }
   ],
   "source": [
    "# 66. numpy.flipud(m):\n",
    "\"\"\"\n",
    "Voltea la matriz en la dirección arriba/abajo. Las filas son preservadas, \n",
    "pero aparecen en un diferente orden al previo. \n",
    "\"\"\"\n",
    "\n",
    "B = [[0,2,4],[9,7,4],[4,2,9]]\n",
    "np.flipud(B)"
   ]
  },
  {
   "cell_type": "code",
   "execution_count": 80,
   "metadata": {},
   "outputs": [
    {
     "data": {
      "text/plain": [
       "array([[0., 0., 0., 0., 0., 0., 0., 0., 0., 0., 0., 0.],\n",
       "       [0., 0., 0., 0., 0., 0., 0., 0., 0., 0., 0., 0.]])"
      ]
     },
     "execution_count": 80,
     "metadata": {},
     "output_type": "execute_result"
    }
   ],
   "source": [
    "# 67. numpy.reshape(a, newshape,order='C') \n",
    "\"\"\"\n",
    "Le da una nueva forma a una matriz sin cambiar su información. \n",
    "\"\"\"\n",
    "\n",
    "b = np.zeros((8, 3)).reshape(2,12)\n",
    "b"
   ]
  },
  {
   "cell_type": "code",
   "execution_count": 84,
   "metadata": {},
   "outputs": [
    {
     "data": {
      "text/plain": [
       "array([2, 3, 4, 5, 6, 7, 0, 1])"
      ]
     },
     "execution_count": 84,
     "metadata": {},
     "output_type": "execute_result"
    }
   ],
   "source": [
    "# 68. numpy.roll(a, shift, axis=None):\n",
    "\"\"\"\n",
    "Roll los elementos de una matriz a lo largo de un eje dado. Los elementos que\n",
    "van más allá de la última posición son reintroducidos al principio. \n",
    "\"\"\"\n",
    "\n",
    "m = np.arange(8)\n",
    "np.roll(m,-2)"
   ]
  },
  {
   "cell_type": "code",
   "execution_count": 87,
   "metadata": {},
   "outputs": [
    {
     "data": {
      "text/plain": [
       "array([[[0, 1],\n",
       "        [2, 3]],\n",
       "\n",
       "       [[4, 5],\n",
       "        [6, 7]]])"
      ]
     },
     "execution_count": 87,
     "metadata": {},
     "output_type": "execute_result"
    }
   ],
   "source": [
    "# 69. numpy.rot90(m, k=1, axes=(0,1))\n",
    "\"\"\"\n",
    "Rotan una matriz en 90 grados en el plano especificado por los ejes.\n",
    "La dirección de la rotación es desde el primer eje hasta el segundo eje. \n",
    "\"\"\"\n",
    "\n",
    "m = np.arange(8).reshape((2,2,2))\n",
    "m"
   ]
  },
  {
   "cell_type": "code",
   "execution_count": 89,
   "metadata": {},
   "outputs": [
    {
     "data": {
      "text/plain": [
       "array([[[1, 3],\n",
       "        [0, 2]],\n",
       "\n",
       "       [[5, 7],\n",
       "        [4, 6]]])"
      ]
     },
     "execution_count": 89,
     "metadata": {},
     "output_type": "execute_result"
    }
   ],
   "source": [
    "np.rot90(m,1, (1,2))"
   ]
  },
  {
   "cell_type": "code",
   "execution_count": 93,
   "metadata": {},
   "outputs": [
    {
     "data": {
      "text/plain": [
       "array([False,  True, False])"
      ]
     },
     "execution_count": 93,
     "metadata": {},
     "output_type": "execute_result"
    }
   ],
   "source": [
    "# 70. numpy.char.compare_charrarrays(a, b, cmp_op, rstrip):\n",
    "\"\"\"\n",
    "Realiza una comparación entre elementos de do matrices con cadenas\n",
    "utilizando el operador comparación especificado por cmp_op.\n",
    "\"\"\"\n",
    "\n",
    "a = np.array([\"a\",\"b\",\"cdef\"])\n",
    "b = np.array([\"a\", \"a\", \"fedc\"])\n",
    "np.compare_chararrays(a, b, \">\", True)"
   ]
  },
  {
   "cell_type": "code",
   "execution_count": 96,
   "metadata": {},
   "outputs": [
    {
     "data": {
      "text/plain": [
       "array(['A1B C', '1BCA', 'BCA1'], dtype='<U5')"
      ]
     },
     "execution_count": 96,
     "metadata": {},
     "output_type": "execute_result"
    }
   ],
   "source": [
    "# 71. numpy.char.upper(a):\n",
    "\"\"\"\n",
    "Devuelve una matriz con los elementos convertidos en letras mayúsculas. \n",
    "\"\"\"\n",
    "\n",
    "c = np.array(['a1b c', '1bca', 'bca1']); \n",
    "np.char.upper(c)"
   ]
  },
  {
   "cell_type": "code",
   "execution_count": 100,
   "metadata": {},
   "outputs": [
    {
     "data": {
      "text/plain": [
       "array([b'A1B C', b'1B Ca', b'B Ca1', b'Ca1B'], dtype='|S5')"
      ]
     },
     "execution_count": 100,
     "metadata": {},
     "output_type": "execute_result"
    }
   ],
   "source": [
    "# 72. numpy.char.title(a):\n",
    "\"\"\"\n",
    "Devuelve la versión en cadena del título o unicode. \n",
    "Las palabras con mayúsculas y minúsculas comienzan con mayúsculas, \n",
    "todos los caracteres en mayúsculas restantes están en minúsculas.\n",
    "\"\"\"\n",
    "\n",
    "c=np.array(['a1b c','1b ca','b ca1','ca1b'],'S5'); \n",
    "np.char.title(c)"
   ]
  },
  {
   "cell_type": "code",
   "execution_count": 102,
   "metadata": {},
   "outputs": [
    {
     "data": {
      "text/plain": [
       "array([3, 1, 1])"
      ]
     },
     "execution_count": 102,
     "metadata": {},
     "output_type": "execute_result"
    }
   ],
   "source": [
    "# 73. numpy.char.count(a, sub, start=0, end=None):\n",
    "\"\"\"\n",
    "Devuelve una matriz con el número de ocurrencias no superpuestas de \n",
    "subcadenas sub en el rango [inicio, fin].\n",
    "\"\"\"\n",
    "\n",
    "k = np.array(['aAaAaA', '  aA  ', 'abBABba'])\n",
    "np.char.count(k,\"A\")"
   ]
  },
  {
   "cell_type": "code",
   "execution_count": 1286,
   "metadata": {},
   "outputs": [],
   "source": [
    "# Subejercicio 4.\n",
    "import numpy as np\n",
    "x = 50 * np.random.random(10)"
   ]
  },
  {
   "cell_type": "code",
   "execution_count": 3,
   "metadata": {},
   "outputs": [
    {
     "data": {
      "text/plain": [
       "array([0.17720554, 0.76729411, 0.78628867, 0.99448786, 0.39297179,\n",
       "       0.75922542, 0.56181402, 0.63047106, 0.81475668, 0.7412264 ])"
      ]
     },
     "execution_count": 3,
     "metadata": {},
     "output_type": "execute_result"
    }
   ],
   "source": [
    "x"
   ]
  },
  {
   "cell_type": "code",
   "execution_count": 8,
   "metadata": {},
   "outputs": [
    {
     "data": {
      "text/plain": [
       "array([False,  True, False, False,  True, False, False, False,  True,\n",
       "       False])"
      ]
     },
     "execution_count": 8,
     "metadata": {},
     "output_type": "execute_result"
    }
   ],
   "source": [
    "x < 20"
   ]
  },
  {
   "cell_type": "code",
   "execution_count": 10,
   "metadata": {},
   "outputs": [
    {
     "data": {
      "text/plain": [
       "array([[0.98126291, 0.92447378],\n",
       "       [0.22961204, 0.01737301],\n",
       "       [0.37617547, 0.39387815],\n",
       "       [0.84762065, 0.53757556],\n",
       "       [0.28705701, 0.25260299],\n",
       "       [0.09481289, 0.28244025],\n",
       "       [0.17270721, 0.28945972],\n",
       "       [0.33292029, 0.29791661],\n",
       "       [0.36231345, 0.9590509 ],\n",
       "       [0.97392281, 0.00300046]])"
      ]
     },
     "execution_count": 10,
     "metadata": {},
     "output_type": "execute_result"
    }
   ],
   "source": [
    "x = np.random.random((10, 2))\n",
    "x"
   ]
  },
  {
   "cell_type": "code",
   "execution_count": 13,
   "metadata": {},
   "outputs": [
    {
     "data": {
      "text/plain": [
       "array([0.9628769 , 0.05272169, 0.14150798, 0.71846077, 0.08240173,\n",
       "       0.00898948, 0.02982778, 0.11083592, 0.13127104, 0.94852565])"
      ]
     },
     "execution_count": 13,
     "metadata": {},
     "output_type": "execute_result"
    }
   ],
   "source": [
    "x[:,0]**2"
   ]
  }
 ],
 "metadata": {
  "kernelspec": {
   "display_name": "Python 3",
   "language": "python",
   "name": "python3"
  },
  "language_info": {
   "codemirror_mode": {
    "name": "ipython",
    "version": 3
   },
   "file_extension": ".py",
   "mimetype": "text/x-python",
   "name": "python",
   "nbconvert_exporter": "python",
   "pygments_lexer": "ipython3",
   "version": "3.7.4"
  }
 },
 "nbformat": 4,
 "nbformat_minor": 2
}
