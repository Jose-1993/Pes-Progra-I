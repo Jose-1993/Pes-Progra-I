{
 "cells": [
  {
   "cell_type": "markdown",
   "metadata": {},
   "source": [
    "# Tarea #6\n",
    "**Programacion I**"
   ]
  },
  {
   "cell_type": "markdown",
   "metadata": {},
   "source": [
    "## Ejercicio 1\n",
    "\n",
    "Ejecute el siguiente programa y explique su procedimiento y el porqué del resultado. "
   ]
  },
  {
   "cell_type": "code",
   "execution_count": 1,
   "metadata": {},
   "outputs": [
    {
     "ename": "RecursionError",
     "evalue": "maximum recursion depth exceeded",
     "output_type": "error",
     "traceback": [
      "\u001b[1;31m---------------------------------------------------------------------------\u001b[0m",
      "\u001b[1;31mRecursionError\u001b[0m                            Traceback (most recent call last)",
      "\u001b[1;32m<ipython-input-1-00d266b39dc6>\u001b[0m in \u001b[0;36m<module>\u001b[1;34m\u001b[0m\n\u001b[0;32m      2\u001b[0m     \u001b[0mf\u001b[0m\u001b[1;33m(\u001b[0m\u001b[0mf\u001b[0m\u001b[1;33m)\u001b[0m\u001b[1;33m\u001b[0m\u001b[1;33m\u001b[0m\u001b[0m\n\u001b[0;32m      3\u001b[0m \u001b[1;33m\u001b[0m\u001b[0m\n\u001b[1;32m----> 4\u001b[1;33m \u001b[0mRecusion\u001b[0m\u001b[1;33m(\u001b[0m\u001b[0mRecusion\u001b[0m\u001b[1;33m)\u001b[0m\u001b[1;33m\u001b[0m\u001b[1;33m\u001b[0m\u001b[0m\n\u001b[0m",
      "\u001b[1;32m<ipython-input-1-00d266b39dc6>\u001b[0m in \u001b[0;36mRecusion\u001b[1;34m(f)\u001b[0m\n\u001b[0;32m      1\u001b[0m \u001b[1;32mdef\u001b[0m \u001b[0mRecusion\u001b[0m\u001b[1;33m(\u001b[0m\u001b[0mf\u001b[0m\u001b[1;33m)\u001b[0m\u001b[1;33m:\u001b[0m\u001b[1;33m\u001b[0m\u001b[1;33m\u001b[0m\u001b[0m\n\u001b[1;32m----> 2\u001b[1;33m     \u001b[0mf\u001b[0m\u001b[1;33m(\u001b[0m\u001b[0mf\u001b[0m\u001b[1;33m)\u001b[0m\u001b[1;33m\u001b[0m\u001b[1;33m\u001b[0m\u001b[0m\n\u001b[0m\u001b[0;32m      3\u001b[0m \u001b[1;33m\u001b[0m\u001b[0m\n\u001b[0;32m      4\u001b[0m \u001b[0mRecusion\u001b[0m\u001b[1;33m(\u001b[0m\u001b[0mRecusion\u001b[0m\u001b[1;33m)\u001b[0m\u001b[1;33m\u001b[0m\u001b[1;33m\u001b[0m\u001b[0m\n",
      "... last 1 frames repeated, from the frame below ...\n",
      "\u001b[1;32m<ipython-input-1-00d266b39dc6>\u001b[0m in \u001b[0;36mRecusion\u001b[1;34m(f)\u001b[0m\n\u001b[0;32m      1\u001b[0m \u001b[1;32mdef\u001b[0m \u001b[0mRecusion\u001b[0m\u001b[1;33m(\u001b[0m\u001b[0mf\u001b[0m\u001b[1;33m)\u001b[0m\u001b[1;33m:\u001b[0m\u001b[1;33m\u001b[0m\u001b[1;33m\u001b[0m\u001b[0m\n\u001b[1;32m----> 2\u001b[1;33m     \u001b[0mf\u001b[0m\u001b[1;33m(\u001b[0m\u001b[0mf\u001b[0m\u001b[1;33m)\u001b[0m\u001b[1;33m\u001b[0m\u001b[1;33m\u001b[0m\u001b[0m\n\u001b[0m\u001b[0;32m      3\u001b[0m \u001b[1;33m\u001b[0m\u001b[0m\n\u001b[0;32m      4\u001b[0m \u001b[0mRecusion\u001b[0m\u001b[1;33m(\u001b[0m\u001b[0mRecusion\u001b[0m\u001b[1;33m)\u001b[0m\u001b[1;33m\u001b[0m\u001b[1;33m\u001b[0m\u001b[0m\n",
      "\u001b[1;31mRecursionError\u001b[0m: maximum recursion depth exceeded"
     ]
    }
   ],
   "source": [
    "def Recusion(f):\n",
    "    f(f)\n",
    "    \n",
    "Recusion(Recusion)"
   ]
  },
  {
   "cell_type": "code",
   "execution_count": null,
   "metadata": {},
   "outputs": [],
   "source": [
    "La recursión consiste en una función que se llama a así misma, el //\n",
    "objetivo no es tener una recursión infinita, que es lo que está pasando //\n",
    "en este caso por eso se origina el error."
   ]
  },
  {
   "cell_type": "markdown",
   "metadata": {},
   "source": [
    "## Ejercicio 2\n",
    "\n",
    "Vea el siguiente vídeo: <https://www.youtube.com/watch?v=qxRW5pDT2o4>  \n",
    "\n",
    "Complete el código siguiente para encontrar el máximo común divisor dado dos números enteros. \n",
    "\n",
    "Las condiciones básicas, son:"
   ]
  },
  {
   "cell_type": "markdown",
   "metadata": {},
   "source": [
    "Para dos números $a$ y $b$, tal que $b\\leq a$:\n",
    "* $mcd(a,0) = a$\n",
    "* Si $b\\vert a$ (divida enteramente), entonces $mcd(a,b)=b$\n",
    "* En otro caso, $mcd(a,b) = mcd(b,a \\,mod \\, b)$\n",
    "\n"
   ]
  },
  {
   "cell_type": "code",
   "execution_count": 44,
   "metadata": {},
   "outputs": [],
   "source": [
    "def mcd(a,b):\n",
    "    '''Donde a >= b'''\n",
    "    if a % b == 0:    # Encuentre la condición\n",
    "        return b\n",
    "    elif a % b != 0:   # Añada la condición faltante\n",
    "        return mcd(b,a%b)    #Añada el procedimiento faltante\n",
    "    else:\n",
    "        return mcd(b,a%b)"
   ]
  },
  {
   "cell_type": "code",
   "execution_count": 52,
   "metadata": {},
   "outputs": [
    {
     "data": {
      "text/plain": [
       "50"
      ]
     },
     "execution_count": 52,
     "metadata": {},
     "output_type": "execute_result"
    }
   ],
   "source": [
    "mcd(100,150)"
   ]
  },
  {
   "cell_type": "markdown",
   "metadata": {},
   "source": [
    "## Ejercicio 3\n",
    "\n",
    "Implemente un algoritmo recursivo para obtener la parte entera de la división entre dos números enteros. (Pista: Asocie con la resta)."
   ]
  },
  {
   "cell_type": "code",
   "execution_count": 69,
   "metadata": {},
   "outputs": [
    {
     "data": {
      "text/plain": [
       "5"
      ]
     },
     "execution_count": 69,
     "metadata": {},
     "output_type": "execute_result"
    }
   ],
   "source": [
    "def div_rec(a,b):     #Opción 1\n",
    "    if a - b < 0:      # Caso base\n",
    "        return 0\n",
    "    else:\n",
    "        return 1+ div_rec(a-b,b)\n",
    "    \n",
    "div_rec(10,2)\n"
   ]
  },
  {
   "cell_type": "code",
   "execution_count": 70,
   "metadata": {},
   "outputs": [
    {
     "data": {
      "text/plain": [
       "5"
      ]
     },
     "execution_count": 70,
     "metadata": {},
     "output_type": "execute_result"
    }
   ],
   "source": [
    "def div_ent_rec(a,b):   # Opción 2\n",
    "    if (b>a):           # Caso base \n",
    "        return 0\n",
    "    else:\n",
    "        return 1+div_ent_rec(a-b,b)\n",
    "    \n",
    "div_ent_rec(10,2)"
   ]
  },
  {
   "cell_type": "markdown",
   "metadata": {},
   "source": [
    "# Ejercicio 4\n",
    "\n",
    "En el ejemplo de clase (Coordinate), modifique el método constructor para que verifique que los argumentos $x$ y $y$ sean flotantes.  "
   ]
  },
  {
   "cell_type": "code",
   "execution_count": null,
   "metadata": {},
   "outputs": [],
   "source": [
    "def imprimirIni():\n",
    "    print(\"Hola, me estoy creando...\")\n",
    "\n",
    "class Coordinate(object):\n",
    "    # Atributos (datos, funciones)\n",
    "    # ...\n",
    "    \n",
    "    # Método constructor \n",
    "    def __init__(self, x, y):  # el self siempre inicia con self\n",
    "        # ¿Cómo queremos inicializar el objeto?\n",
    "        imprimirIni()\n",
    "        \n",
    "        \"\"\" x and y son float \"\"\"\n",
    "        assert type(x) == float and type(y) == float\n",
    "        \n",
    "        self.x = x     #en el self se guardan los atributos\n",
    "        self.y = y\n",
    "    "
   ]
  },
  {
   "cell_type": "markdown",
   "metadata": {},
   "source": [
    "# Ejercicio 5\n",
    "\n",
    "1. Cree una clase llamada ``Persona``, que asigne una cadena a la propiedad ``nombre`` y un número entero a la propiedad ``edad``. Al imprimir el objeto, debe concatenar tanto el nombre con la edad. \n",
    "2. A la clase anterior, añada un método para sumar dos objetos de tipo ``Persona``. El resultado debe ser ambos nombres concatenados y la suma de ambas edades.\n",
    "3. Modifique la clase para que el objeto tenga otra propiedad llamada ``altura``. Cuando se solicite la longitud del objeto, muestre la altura. También debe modificar el método de impresión para que muestre la altura. ¿Qué pasa con el método de suma?\n",
    "\n"
   ]
  },
  {
   "cell_type": "code",
   "execution_count": 177,
   "metadata": {},
   "outputs": [
    {
     "name": "stdout",
     "output_type": "stream",
     "text": [
      "José26\n"
     ]
    }
   ],
   "source": [
    "# subejercicio no. 1\n",
    "class Persona(object):\n",
    "    def __init__(self, nombre, edad):\n",
    "        assert type(nombre) == str and type(edad) == int\n",
    "        self.nombre = nombre\n",
    "        self.edad = edad\n",
    "    \n",
    "    def __str__(self):      # se crea cadena para imprimir\n",
    "        concatenate = str(self.nombre)+str(self.edad)\n",
    "        return concatenate    \n",
    "\n",
    "a = Persona(\"José\",26)\n",
    "print(a)"
   ]
  },
  {
   "cell_type": "code",
   "execution_count": 205,
   "metadata": {},
   "outputs": [
    {
     "name": "stdout",
     "output_type": "stream",
     "text": [
      "JoséNeto 41\n"
     ]
    }
   ],
   "source": [
    "# subejercicio no. 2\n",
    "class Persona(object):\n",
    "    def __init__(self, nombre, edad):\n",
    "        self.nombre = str(nombre)   # Al usar str e int antes de las variables, se está declarando su tipo.\n",
    "        self.edad = int(edad)\n",
    "    \n",
    "    def __str__(self):    # se crea cadena para imprimir\n",
    "        concatenate = str(self.nombre)+ \" \" +str(self.edad)\n",
    "        return concatenate    \n",
    "    \n",
    "    def __add__(self,other):    # se define la suma\n",
    "        res_nombre = self.nombre+other.nombre     # Al usar str e int antes de las variables, se está declarando su tipo.\n",
    "        res_edad = self.edad+other.edad\n",
    "        return Persona(res_nombre,res_edad)\n",
    "    \n",
    "a = Persona(\"José\",26)\n",
    "b = Persona(\"Neto\",15)\n",
    "\n",
    "print(a+b)"
   ]
  },
  {
   "cell_type": "code",
   "execution_count": 181,
   "metadata": {},
   "outputs": [],
   "source": [
    "# subejercicio no.3\n",
    "class Persona(object):\n",
    "    def __init__(self, nombre, edad, altura):\n",
    "        self.nombre = str(nombre)       # Al usar str e int antes de las variables, se está declarando su tipo.\n",
    "        self.edad = int(edad)\n",
    "        self.altura = int(altura)\n",
    "    \n",
    "    def __str__(self):         # se crea cadena para imprimir\n",
    "        concatenate = str(self.nombre)+ \" \" +str(self.edad)+ \" \" + str(self.altura)\n",
    "        return concatenate\n",
    "     \n",
    "    def __add__(self,other):    # se define la suma    \n",
    "        res_nombre = self.nombre+other.nombre\n",
    "        res_edad = self.edad+other.edad\n",
    "        res_altura = self.altura+other.altura\n",
    "        return Persona(res_nombre,res_edad,res_altura)\n",
    "    \n",
    "    def __len__(self):\n",
    "        return self.altura"
   ]
  },
  {
   "cell_type": "code",
   "execution_count": 190,
   "metadata": {
    "scrolled": true
   },
   "outputs": [
    {
     "data": {
      "text/plain": [
       "165"
      ]
     },
     "execution_count": 190,
     "metadata": {},
     "output_type": "execute_result"
    }
   ],
   "source": [
    "a = Persona(\"José\",26,165)\n",
    "b = Persona(\"Neto\",15,180)\n",
    "len(a)"
   ]
  },
  {
   "cell_type": "code",
   "execution_count": 191,
   "metadata": {},
   "outputs": [
    {
     "name": "stdout",
     "output_type": "stream",
     "text": [
      "JoséNeto 41 345\n"
     ]
    }
   ],
   "source": [
    "print(a+b)"
   ]
  },
  {
   "cell_type": "markdown",
   "metadata": {},
   "source": [
    "# Ejercicio 6\n",
    "Comparación entre canasta de bienes"
   ]
  },
  {
   "cell_type": "code",
   "execution_count": 226,
   "metadata": {},
   "outputs": [],
   "source": [
    "class Canasta(object):\n",
    "    def __init__(self, cerveza, ocio, ceviche):\n",
    "        self.cerveza = int(cerveza)\n",
    "        self.ocio = int(ocio)\n",
    "        self.ceviche = int(ceviche)\n",
    "    \n",
    "    def __lt__(self,other):\n",
    "        # Cómo saber si una canasta es preferida a otra\n",
    "        # Devuelve True si la canasta self genera la misma utilidad\n",
    "        # False en caso contrario\n",
    "        utilidad1 = ((self.cerveza)**0.3)*((self.ocio)**0.6)*((self.ceviche)**0.1)\n",
    "        utilidad2 = ((other.cerveza)**0.3)*((other.ocio)**0.6)*((other.ceviche)**0.1)\n",
    "        \n",
    "        if utilidad1 < utilidad2:\n",
    "            return False\n",
    "        else:\n",
    "            return True\n",
    "    \n",
    "    def __eq__(self, other):\n",
    "        # Cómo saber si una canasta es indiferente a otra\n",
    "        # Devuelve True si self genera la misma utilidad\n",
    "        # False en caso contrario\n",
    "        utilidad1 = ((self.cerveza)**0.3*(self.ocio)**0.6*(self.ceviche)**0.1)\n",
    "        utilidad2 = ((other.cerveza)**0.3*(other.ocio)**0.6*(other.ceviche)**0.1)\n",
    "        \n",
    "        if utilidad1 == utilidad2:\n",
    "            return True\n",
    "        else:\n",
    "            return False"
   ]
  },
  {
   "cell_type": "code",
   "execution_count": 227,
   "metadata": {},
   "outputs": [
    {
     "data": {
      "text/plain": [
       "False"
      ]
     },
     "execution_count": 227,
     "metadata": {},
     "output_type": "execute_result"
    }
   ],
   "source": [
    "José = Canasta(5,8,10)\n",
    "Jorge = Canasta(10,20,30)\n",
    "José < Jorge"
   ]
  },
  {
   "cell_type": "code",
   "execution_count": 228,
   "metadata": {},
   "outputs": [
    {
     "data": {
      "text/plain": [
       "True"
      ]
     },
     "execution_count": 228,
     "metadata": {},
     "output_type": "execute_result"
    }
   ],
   "source": [
    "José = Canasta(1,2,3)\n",
    "Jorge = Canasta(10,20,30)\n",
    "José > Jorge"
   ]
  },
  {
   "cell_type": "code",
   "execution_count": 229,
   "metadata": {},
   "outputs": [
    {
     "data": {
      "text/plain": [
       "False"
      ]
     },
     "execution_count": 229,
     "metadata": {},
     "output_type": "execute_result"
    }
   ],
   "source": [
    "José = Canasta(5,8,10)\n",
    "Jorge = Canasta(10,20,30)\n",
    "José == Jorge"
   ]
  },
  {
   "cell_type": "code",
   "execution_count": 230,
   "metadata": {},
   "outputs": [
    {
     "data": {
      "text/plain": [
       "True"
      ]
     },
     "execution_count": 230,
     "metadata": {},
     "output_type": "execute_result"
    }
   ],
   "source": [
    "José = Canasta(10,20,30)\n",
    "Jorge = Canasta(10,20,30)\n",
    "José == Jorge"
   ]
  },
  {
   "cell_type": "code",
   "execution_count": 224,
   "metadata": {},
   "outputs": [
    {
     "data": {
      "text/plain": [
       "True"
      ]
     },
     "execution_count": 224,
     "metadata": {},
     "output_type": "execute_result"
    }
   ],
   "source": [
    "José = Canasta(10,20,30)\n",
    "Jorge = Canasta(5,8,10)\n",
    "José < Jorge"
   ]
  },
  {
   "cell_type": "markdown",
   "metadata": {},
   "source": [
    "# Ejercicio 7\n",
    "Cifrado tipo César"
   ]
  },
  {
   "cell_type": "code",
   "execution_count": 206,
   "metadata": {},
   "outputs": [],
   "source": [
    "class Mensajes(object):\n",
    "    def __init__(self, msg, rot):\n",
    "        self.msg = str(msg)\n",
    "        self.rot = int(rot)\n",
    "        \n",
    "    def __str__(self):   # Cadena con mensaje encriptado.\n",
    "        mens_encrip = \"\"\n",
    "        for char in self.msg:   \n",
    "            lista=ord(char)+self.rot\n",
    "            mens_encrip = mens_encrip + chr(lista)\n",
    "        return mens_encrip"
   ]
  },
  {
   "cell_type": "code",
   "execution_count": 210,
   "metadata": {},
   "outputs": [
    {
     "name": "stdout",
     "output_type": "stream",
     "text": [
      "Hvwr|#ihol}\n"
     ]
    }
   ],
   "source": [
    "mensaje = Mensajes(\"Estoy feliz\",3)\n",
    "print(mensaje)"
   ]
  }
 ],
 "metadata": {
  "kernelspec": {
   "display_name": "Python 3",
   "language": "python",
   "name": "python3"
  },
  "language_info": {
   "codemirror_mode": {
    "name": "ipython",
    "version": 3
   },
   "file_extension": ".py",
   "mimetype": "text/x-python",
   "name": "python",
   "nbconvert_exporter": "python",
   "pygments_lexer": "ipython3",
   "version": "3.7.4"
  }
 },
 "nbformat": 4,
 "nbformat_minor": 2
}
